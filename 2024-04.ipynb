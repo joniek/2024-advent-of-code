{
 "cells": [
  {
   "cell_type": "markdown",
   "metadata": {},
   "source": [
    "# 2024-04"
   ]
  },
  {
   "cell_type": "code",
   "execution_count": 1,
   "metadata": {},
   "outputs": [],
   "source": [
    "import aocd, setup\n",
    "\n",
    "# Get Puzzle on this Year and Day.\n",
    "year = 2024\n",
    "day = 4\n",
    "session_id = setup.get_sessionid()  # current session id\n",
    "\n",
    "puzzle = aocd.get_puzzle(session_id, year=year, day=day)            # get puzzle info\n",
    "data = aocd.get_data(session_id, year=year, day=day).splitlines()   # get input data\n"
   ]
  },
  {
   "cell_type": "code",
   "execution_count": 172,
   "metadata": {},
   "outputs": [
    {
     "name": "stdout",
     "output_type": "stream",
     "text": [
      "Input length: 140\n",
      "Input sample:\n",
      "SSSMMAASASAMXSSMSMMSSSSSSMSSMMMSMSAXMAMASXXXXMXMXSXXXMAMMSSSSSSXXAMXMSSXMAXMMXMMSSSMSAMXMXSXMSMSSSXMMSAMMSAMXMSMMMXSASMMMXMXMMXXAMXXMASXMXMS\n",
      "AMAASMMSASASAAMMAAXXAAXAAAAXASAAXSAMXSXASMSMAMSMASMSMXAXSAMXAAAMSXXAMXAAMXSAMAAXSAAAMAMAMASMMAASAXSAASAMXAAXAXAMAXXXAXAASMMASMASXMSXSAMAMMMS\n",
      "MSSMMAAXASAMXMMSSSMMMMMMMMMXAMMMMSAMAMMXMAMSAMAMXSAAASMMMASMMMMMAASXSMSAMXAASXSMMMMMSAMMMASASMSMAMMMMSAXMSMSMSMSMSMMMMSMXAXASXAAAMAMMASAMAAM\n",
      "XXAMXMMMMMMMMXXAAAXMSAMXSXMASXSXXSAMXSSXMAMXMSMXAMMMXAMXSAMAMAXMMXMXAMXAAMMXMAAMXAAXXXSXMASMMMMMXMMMASAMXXXXXAXAMAMAAAMMSSMASMSSSMASXXMXSMSX\n",
      "MMMMSMMMXMSASAMMXMXMMMXAMAMXXAMMXXXXSAMXSAMAMAMXMASMSMAXMASMMXSAMAMSSMMMMXXXMMMMMXSSMSMAMASXMASMMSXMASMAMMMSXMSXSASXSMSAAAMSMMAAAMMMXXAAXAMA\n",
      "AAAAAAAMAMXASMXAASXSAAMSSMMSMAMMAMSMMAXXAMSMSASMSMXXAMSAXXAAAASMMXXAMXASASXMMASASAAXMASAMASASASAMXSMASMSAAAAAXMXMASMMAMMSSMXAMMMMMMASMXMMAMM\n",
      "SSMSSSMSASMAMXMSMSASMXMAAAAMXMMMAXAASAMXMMAASASAASMSXMAMSMSMMXXASXMASXXMAMXSXAXASMSMAMSXSXXXMASMMMMMXSAXMMSSMMXAMAMAMAXXAAMSMMSXMAMASAAXAAXX\n",
      "\n",
      "Input example:\n",
      "MMMSXXMASM\n",
      "MSAMXMSMSA\n",
      "AMXSXMAAMM\n",
      "MSAMASMSMX\n",
      "XMASAMXAMM\n",
      "XXAMMXXAMA\n",
      "SMSMSASXSS\n",
      "SAXAMASAAA\n",
      "MAMMMXMMMM\n",
      "MXMXAXMASX\n",
      "answer a: 18\n",
      "answer b: None\n",
      "extra: None\n"
     ]
    }
   ],
   "source": [
    "# Review the data and examples.\n",
    "print(\"Input length:\", len(data))\n",
    "print(\"Input sample:\")\n",
    "\n",
    "for i in range(7):\n",
    "    print(data[i])\n",
    "\n",
    "eg_data = puzzle.examples[0].input_data\n",
    "print(\"\\nInput example:\")\n",
    "print(eg_data)\n",
    "\n",
    "eg_answer_a = puzzle.examples[0].answer_a\n",
    "print(\"answer a:\", eg_answer_a)\n",
    "eg_answer_b = puzzle.examples[0].answer_b\n",
    "print(\"answer b:\", eg_answer_b)\n",
    "eg_extra = puzzle.examples[0].extra\n",
    "print(\"extra:\", eg_extra)\n"
   ]
  },
  {
   "cell_type": "markdown",
   "metadata": {},
   "source": [
    "# Part 1"
   ]
  },
  {
   "cell_type": "code",
   "execution_count": 236,
   "metadata": {},
   "outputs": [],
   "source": [
    "import re\n",
    "import numpy as np"
   ]
  },
  {
   "cell_type": "code",
   "execution_count": 237,
   "metadata": {},
   "outputs": [],
   "source": [
    "\n",
    "# converts string into an array.\n",
    "def make_array(dataset):\n",
    "    this_array = []\n",
    "    this_list = []\n",
    "\n",
    "    # If a string, split the lines. \n",
    "    if (type(dataset) == str):\n",
    "        this_list = dataset.splitlines()\n",
    "\n",
    "    # Leave alone if dataset is already an array.\n",
    "    elif (type(dataset) == list):\n",
    "        this_list = dataset\n",
    "\n",
    "    # split each character.\n",
    "    for i in this_list:\n",
    "        this_array.append(list(i))\n",
    "\n",
    "    return this_array\n",
    "    \n",
    "\n",
    "\n",
    "# transposes an array.\n",
    "def transpose_array(array):\n",
    "    return np.asarray(array).transpose()\n",
    "\n",
    "\n",
    "\n",
    "# converts array into a string.\n",
    "def array_to_string(array):\n",
    "\n",
    "    this_string = ''\n",
    "\n",
    "    for i in range(len(array)):\n",
    "        \n",
    "        if i !=len(array)-1:\n",
    "            this_string = this_string + ''.join(array[i].tolist()) + '\\n'\n",
    "        else:\n",
    "            this_string = this_string + ''.join(array[i].tolist())\n",
    "        \n",
    "    return this_string"
   ]
  },
  {
   "cell_type": "code",
   "execution_count": 242,
   "metadata": {},
   "outputs": [],
   "source": [
    "# Counts matches on the diagonal in an array.\n",
    "def find_in_diagonal(d_array):\n",
    "    d_string = ''\n",
    "\n",
    "    for r in range(len(d_array)-3):\n",
    "        for c in range(len(d_array[0])-3):\n",
    "            # print(r, c, d_array[r][c], d_array[r+1][c+1], d_array[r+2][c+2], d_array[r+3][c+3])\n",
    "            d_string += (d_array[r][c] + d_array[r+1][c+1] + d_array[r+2][c+2] + d_array[r+3][c+3]) + '\\n'\n",
    "\n",
    "    return find_matches(d_string)"
   ]
  },
  {
   "cell_type": "code",
   "execution_count": 259,
   "metadata": {},
   "outputs": [],
   "source": [
    "# Finds matches forwards and backwards, in a string.\n",
    "def find_matches(text):\n",
    "    pattern = re.compile(r\"XMAS|SAMX\")\n",
    "    counter = 0\n",
    "    this_string = ''\n",
    "\n",
    "    if (type(text) == list):    # If a list, converts into a string. \n",
    "        this_string = array_to_string(np.asarray(text))\n",
    "    else:\n",
    "        this_string = text\n",
    "\n",
    "    # print(this_string)\n",
    "\n",
    "    for m in pattern.finditer(this_string):\n",
    "        # print(m)\n",
    "        counter += 1\n",
    "        \n",
    "    return counter\n",
    "\n",
    "    # return this_string"
   ]
  },
  {
   "cell_type": "code",
   "execution_count": null,
   "metadata": {},
   "outputs": [],
   "source": [
    "# Looks for XMAS on horizontal lines.\n",
    "def find_in_lines(text):\n",
    "    pattern = re.compile(r\"XMAS|SAMX\")\n",
    "    d_string = ''\n",
    "    counter = 0\n",
    "\n",
    "    for r in range(len(text)):\n",
    "        for c in range(len(text[0])-3):\n",
    "            for i in range(4):\n",
    "                d_string += text[r][c+i]\n",
    "            d_string += '\\n'\n",
    "\n",
    "    # print(d_string)\n",
    "\n",
    "    return find_matches(d_string)            "
   ]
  },
  {
   "cell_type": "code",
   "execution_count": 264,
   "metadata": {},
   "outputs": [
    {
     "name": "stdout",
     "output_type": "stream",
     "text": [
      "L to R: 441\n",
      "Transposed L to R:  463\n",
      "Diagonal: 907\n",
      "Transposed diagonal: 907\n"
     ]
    },
    {
     "data": {
      "text/plain": [
       "2718"
      ]
     },
     "execution_count": 264,
     "metadata": {},
     "output_type": "execute_result"
    }
   ],
   "source": [
    "# dataset = eg_data\n",
    "dataset = data\n",
    "\n",
    "\n",
    "d_array = make_array(dataset)       # Turn dataset into an array.\n",
    "\n",
    "a_lr = find_in_lines(d_array)       # L<=>R Matches\n",
    "print(\"L to R:\",a_lr)\n",
    "\n",
    "\n",
    "t_array = transpose_array(d_array)      # Transpose dataset and find matches (TD).\n",
    "t_string = array_to_string(t_array)\n",
    "\n",
    "a_lr_t = find_in_lines(t_array)\n",
    "print(\"Transposed L to R: \", a_lr_t)\n",
    "\n",
    "\n",
    "a_diag = find_in_diagonal(d_array)   # Find matches on the diagonal.\n",
    "print(\"Diagonal:\", a_diag)\n",
    "\n",
    "\n",
    "a_diag_t = find_in_diagonal(t_array)   # Find matches on the diagonal - transposed.\n",
    "print(\"Transposed diagonal:\", a_diag_t)\n",
    "\n",
    "\n",
    "answer_a = a_lr + a_lr_t + a_diag + a_diag_t\n",
    "answer_a\n",
    "\n",
    "# wrong answers: 2676"
   ]
  },
  {
   "cell_type": "code",
   "execution_count": 265,
   "metadata": {},
   "outputs": [
    {
     "name": "stderr",
     "output_type": "stream",
     "text": [
      "current_day is only available in December (EST)\n"
     ]
    },
    {
     "name": "stdout",
     "output_type": "stream",
     "text": [
      "\u001b[32mThat's the right answer!  You are one gold star closer to finding the Chief Historian. [Continue to Part Two]\u001b[0m\n"
     ]
    }
   ],
   "source": [
    "response = aocd.submit(answer_a, part=1, day=day, year=year, session=session_id)"
   ]
  },
  {
   "cell_type": "markdown",
   "metadata": {},
   "source": [
    "# Part 2"
   ]
  },
  {
   "cell_type": "code",
   "execution_count": null,
   "metadata": {},
   "outputs": [],
   "source": []
  },
  {
   "cell_type": "code",
   "execution_count": null,
   "metadata": {},
   "outputs": [],
   "source": [
    "# response = aocd.submit(answer_b, part=2, day=day, year=year, session=session_id)"
   ]
  }
 ],
 "metadata": {
  "kernelspec": {
   "display_name": "base",
   "language": "python",
   "name": "python3"
  },
  "language_info": {
   "codemirror_mode": {
    "name": "ipython",
    "version": 3
   },
   "file_extension": ".py",
   "mimetype": "text/x-python",
   "name": "python",
   "nbconvert_exporter": "python",
   "pygments_lexer": "ipython3",
   "version": "3.10.9"
  }
 },
 "nbformat": 4,
 "nbformat_minor": 2
}
