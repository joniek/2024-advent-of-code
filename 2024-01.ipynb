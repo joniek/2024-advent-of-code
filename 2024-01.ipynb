{
 "cells": [
  {
   "cell_type": "markdown",
   "metadata": {},
   "source": [
    "# 2024-01 Advent of Code\n",
    "**Helpful resources**  \n",
    "[Real Python - Advent of Code: Solving Your Puzzles With Python](https://realpython.com/python-advent-of-code/)  \n",
    "[Advent of Code Python Doc](https://github.com/wimglenn/advent-of-code-data/tree/main)"
   ]
  },
  {
   "cell_type": "code",
   "execution_count": null,
   "metadata": {},
   "outputs": [],
   "source": [
    "import aocd, setup\n",
    "\n",
    "# Get Puzzle on this Year and Day.\n",
    "year = 2024\n",
    "day = 1\n",
    "session_id = setup.get_sessionid()  # current session id\n",
    "\n",
    "puzzle = aocd.get_puzzle(session_id, year=year, day=day)            # get puzzle info\n",
    "data = aocd.get_data(session_id, year=year, day=day).splitlines()   # get input data\n"
   ]
  },
  {
   "cell_type": "code",
   "execution_count": null,
   "metadata": {},
   "outputs": [],
   "source": [
    "# Review the data and examples.\n",
    "print(\"Input length:\", len(data))\n",
    "print(\"Input sample:\")\n",
    "\n",
    "for i in range(7):\n",
    "    print(data[i])\n",
    "\n",
    "eg_data = puzzle.examples[0].input_data.splitlines()\n",
    "print(\"\\nInput example:\")\n",
    "print(eg_data)\n",
    "\n",
    "eg_answer_a = puzzle.examples[0].answer_a\n",
    "print(\"answer a:\", eg_answer_a)\n",
    "eg_answer_b = puzzle.examples[0].answer_b\n",
    "print(\"answer b:\", eg_answer_b)\n",
    "eg_extra = puzzle.examples[0].extra\n",
    "print(\"extra:\", eg_extra)\n"
   ]
  },
  {
   "cell_type": "markdown",
   "metadata": {},
   "source": [
    "# Part 1"
   ]
  },
  {
   "cell_type": "code",
   "execution_count": null,
   "metadata": {},
   "outputs": [],
   "source": [
    "# Splits the data set into 2 list using 3 space delimiter.\n",
    "def return_two_lists(data):\n",
    "    list_a = []\n",
    "    list_b = []\n",
    "\n",
    "    for i in data:\n",
    "        a,b = i.split(\"   \") # Delimiter is triple spaces.\n",
    "        list_a.append(int(a))\n",
    "        list_b.append(int(b))\n",
    "\n",
    "    list_a.sort()\n",
    "    list_b.sort()\n",
    "\n",
    "    return list_a, list_b\n",
    "\n",
    "\n",
    "# Sum the difference between two lists.\n",
    "def sum_diff_of_two_lists(a, b):\n",
    "    total = 0\n",
    "\n",
    "    for i in range(len(a)):\n",
    "        total += abs(a[i] - b[i])\n",
    "\n",
    "    return total\n"
   ]
  },
  {
   "cell_type": "code",
   "execution_count": null,
   "metadata": {},
   "outputs": [],
   "source": [
    "# Split into two lists. \n",
    "a, b = return_two_lists(data)\n",
    "# print(a)\n",
    "# print(b)\n",
    "\n",
    "# Sort the lists\n",
    "a.sort()\n",
    "b.sort()\n",
    "# print(a)\n",
    "# print(b)\n",
    "\n",
    "# Sum up the differences for the answer. \n",
    "answer_a = sum_diff_of_two_lists(a, b)\n",
    "print(\"Answer A:\",answer_a)\n",
    "\n",
    "\n"
   ]
  },
  {
   "cell_type": "code",
   "execution_count": null,
   "metadata": {},
   "outputs": [],
   "source": [
    "response = aocd.submit(answer_a, part=1, day=day, year=year, session=session_id)"
   ]
  },
  {
   "cell_type": "markdown",
   "metadata": {},
   "source": [
    "# Part 2"
   ]
  },
  {
   "cell_type": "code",
   "execution_count": null,
   "metadata": {},
   "outputs": [],
   "source": [
    "# Returns a dictionary of values in a, and the frequency of a's occurance in b.\n",
    "def get_freq_of_a_in_b(a,b):\n",
    "\n",
    "    set_a = set(a)\n",
    "    dict_a = {}\n",
    "\n",
    "    for i in set_a:\n",
    "        dict_a[i] = get_frequency(i, b)\n",
    "    \n",
    "    return dict_a\n",
    "\n",
    "\n",
    "# Gets frequency of a number in an array.\n",
    "def get_frequency(target, array):\n",
    "    frequency = 0\n",
    "\n",
    "    for i in array:\n",
    "        if i == target:\n",
    "            frequency += 1\n",
    "\n",
    "    return frequency\n",
    "\n",
    "\n",
    "# Multiplied each value of a with it's frequency in b.\n",
    "def multiply_a_and_frequency(a, dict_a):\n",
    "    total = 0\n",
    "\n",
    "    for i in a:\n",
    "        total += i * dict_a[i]\n",
    "\n",
    "    return total"
   ]
  },
  {
   "cell_type": "code",
   "execution_count": null,
   "metadata": {},
   "outputs": [],
   "source": [
    "a, b = return_two_lists(data)                    # Get two sorted lists. \n",
    "dict_a = get_freq_of_a_in_b(a,b)                    # Get a dict of values in list A, and its frequency in list B.\n",
    "answer_b = multiply_a_and_frequency(a, dict_a)      # Get the sum total of multiplying each value of list A with its frequency in list B.\n",
    "answer_b"
   ]
  },
  {
   "cell_type": "code",
   "execution_count": null,
   "metadata": {},
   "outputs": [],
   "source": [
    "response = aocd.submit(answer_b, part=2, day=day, year=year, session=session_id)"
   ]
  }
 ],
 "metadata": {
  "kernelspec": {
   "display_name": "base",
   "language": "python",
   "name": "python3"
  },
  "language_info": {
   "codemirror_mode": {
    "name": "ipython",
    "version": 3
   },
   "file_extension": ".py",
   "mimetype": "text/x-python",
   "name": "python",
   "nbconvert_exporter": "python",
   "pygments_lexer": "ipython3",
   "version": "3.10.9"
  }
 },
 "nbformat": 4,
 "nbformat_minor": 2
}
