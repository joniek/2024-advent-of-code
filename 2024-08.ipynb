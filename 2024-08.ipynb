{
 "cells": [
  {
   "cell_type": "markdown",
   "metadata": {},
   "source": [
    "# 2024-08"
   ]
  },
  {
   "cell_type": "code",
   "execution_count": 1,
   "metadata": {},
   "outputs": [],
   "source": [
    "import aocd, setup\n",
    "\n",
    "# Get Puzzle on this Year and Day.\n",
    "year = 2024\n",
    "day = 8\n",
    "session_id = setup.get_sessionid()  # current session id\n",
    "\n",
    "puzzle = aocd.get_puzzle(session_id, year=year, day=day)            # get puzzle info\n",
    "data = aocd.get_data(session_id, year=year, day=day).splitlines()   # get input data\n"
   ]
  },
  {
   "cell_type": "code",
   "execution_count": 38,
   "metadata": {},
   "outputs": [
    {
     "name": "stdout",
     "output_type": "stream",
     "text": [
      "Input length: 50\n",
      "Input sample:\n",
      "['.', '.', '.', '.', 'h', '.', '.', '.', '.', '.', 'Q', '.', '.', '.', '.', '.', '.', '.', '.', '.', '.', '.', '.', '.', '.', 'Y', '.', '.', '.', '.', '.', '.', '.', '.', '.', '.', '.', '.', '.', '.', '.', '.', '.', '.', '.', '.', '.', '.', '.', '.']\n",
      "['.', '.', '.', '.', '.', '.', '.', '.', '.', '.', '.', '.', '.', '.', '.', '.', '.', '.', '.', '.', '.', '.', '.', '.', '.', '.', '.', '.', '.', '.', '.', 'Y', '.', '.', '.', '.', '.', '.', '.', '.', 'C', '.', '.', '.', '.', '.', '.', '.', '.', '.']\n",
      "['.', '.', '.', '.', '.', '.', '.', '.', '.', '.', '.', '.', '.', '.', '.', 'm', '.', '.', '.', '.', '.', '.', '.', '.', '.', '.', 'x', '.', '.', '.', '.', '.', '.', '.', '.', '.', '.', '.', '.', '.', '.', '.', '.', 'B', '.', '.', '.', '.', '.', '.']\n",
      "['.', '.', '.', '.', '.', '.', '.', '.', '.', '.', '.', '.', '.', '.', '.', '.', '.', '.', '.', '.', '.', '.', '.', '.', 'Y', '.', '.', '.', '.', '.', '.', '.', '.', '.', '.', '.', '.', '.', '.', 'q', 'B', '.', '.', '.', '.', '.', '.', '.', '.', '.']\n",
      "['.', '.', '.', '.', '.', '.', 'g', '4', '.', '.', '.', '.', '.', '.', '.', '.', '.', '.', '.', '.', '.', '.', '.', '.', '.', '.', '.', '.', '.', '.', '.', '.', '.', 'h', '.', '.', 'Y', '.', '.', '.', '.', '.', 'q', '.', '.', '.', 'c', '.', '.', '.']\n",
      "['.', '.', '.', '.', '.', '.', '.', '.', '.', '.', '.', '.', '.', '.', '.', '.', 'n', '.', '.', '.', '.', '.', 'R', '.', '.', '.', '.', '.', '.', '.', '.', '.', '.', '.', '.', '.', '.', '.', '.', '.', '.', '.', '.', '.', '.', '.', '.', '.', '.', '.']\n",
      "['.', '.', '.', '.', '.', '.', '.', '.', '.', '.', '.', '.', '.', '.', '.', '.', '.', '.', '.', '.', '.', '.', '.', '.', '.', '.', '.', '.', '.', '.', '.', '.', '.', '.', '.', '.', '.', '.', '.', 'w', '.', '.', '.', '.', '.', '.', '.', '.', '5', '.']\n",
      "\n",
      "Input example:\n",
      "............\n",
      "........0...\n",
      ".....0......\n",
      ".......0....\n",
      "....0.......\n",
      "......A.....\n",
      "............\n",
      "............\n",
      "........A...\n",
      ".........A..\n",
      "............\n",
      "............\n",
      "answer a: 14\n",
      "answer b: None\n",
      "extra: None\n"
     ]
    }
   ],
   "source": [
    "# Review the data and examples.\n",
    "print(\"Input length:\", len(data))\n",
    "print(\"Input sample:\")\n",
    "\n",
    "for i in range(7):\n",
    "    print(data[i])\n",
    "\n",
    "eg_data = puzzle.examples[0].input_data\n",
    "print(\"\\nInput example:\")\n",
    "print(eg_data)\n",
    "\n",
    "eg_answer_a = puzzle.examples[0].answer_a\n",
    "print(\"answer a:\", eg_answer_a)\n",
    "eg_answer_b = puzzle.examples[0].answer_b\n",
    "print(\"answer b:\", eg_answer_b)\n",
    "eg_extra = puzzle.examples[0].extra\n",
    "print(\"extra:\", eg_extra)\n"
   ]
  },
  {
   "cell_type": "markdown",
   "metadata": {},
   "source": [
    "# Part 1"
   ]
  },
  {
   "cell_type": "code",
   "execution_count": 205,
   "metadata": {},
   "outputs": [
    {
     "name": "stdout",
     "output_type": "stream",
     "text": [
      "[['.' '.' '.' '.' '.' '.' '.' '.' '.' '.' '.' '.']\n",
      " ['.' '.' '.' '.' '.' '.' '.' '.' '0' '.' '.' '.']\n",
      " ['.' '.' '.' '.' '.' '0' '.' '.' '.' '.' '.' '.']\n",
      " ['.' '.' '.' '.' '.' '.' '.' '0' '.' '.' '.' '.']\n",
      " ['.' '.' '.' '.' '0' '.' '.' '.' '.' '.' '.' '.']\n",
      " ['.' '.' '.' '.' '.' '.' 'A' '.' '.' '.' '.' '.']\n",
      " ['.' '.' '.' '.' '.' '.' '.' '.' '.' '.' '.' '.']\n",
      " ['.' '.' '.' '.' '.' '.' '.' '.' '.' '.' '.' '.']\n",
      " ['.' '.' '.' '.' '.' '.' '.' '.' 'A' '.' '.' '.']\n",
      " ['.' '.' '.' '.' '.' '.' '.' '.' '.' 'A' '.' '.']\n",
      " ['.' '.' '.' '.' '.' '.' '.' '.' '.' '.' '.' '.']\n",
      " ['.' '.' '.' '.' '.' '.' '.' '.' '.' '.' '.' '.']]\n",
      "(12, 12)\n",
      "['.' '0' 'A']\n"
     ]
    }
   ],
   "source": [
    "# Define and prepare input data. \n",
    "# input = data                    # INPUT DATA\n",
    "input = eg_data.splitlines()  # EG DATA\n",
    "\n",
    "for i in range(len(input)):\n",
    "    input[i] = list(input[i])\n",
    "\n",
    "import numpy as np\n",
    "input = np.array(input)\n",
    "print(input)\n",
    "print(input.shape)\n",
    "print(np.unique(input))"
   ]
  },
  {
   "cell_type": "code",
   "execution_count": 200,
   "metadata": {},
   "outputs": [],
   "source": [
    "# Returns [x,y] coordinates for a character in a map.\n",
    "def get_antennae_coordinates(map, character):\n",
    "    row, col = np.where(map == character)\n",
    "    antennaes = np.concatenate((row,col))\n",
    "    antennaes = antennaes.reshape(2, len(row))\n",
    "    return antennaes.transpose()\n",
    "\n",
    "    \n",
    "# Returns the antinode coordinate, given two points. \n",
    "def get_antinode_coordinate(antennae_a, antennae_b):\n",
    "    return [antennae_b[0] - (antennae_a[0] - antennae_b[0]), antennae_b[1] - (antennae_a[1] - antennae_b[1])]\n",
    "\n",
    "\n",
    "# Returns a list of antinode coordinates given a list of Antennae coordinates. \n",
    "def get_antinode_coordinates(coordinates):\n",
    "    antinode_coodinates = []\n",
    "\n",
    "    for point_a in range(len(coordinates)):\n",
    "        for point_b in range(len(coordinates)):\n",
    "\n",
    "            if point_a != point_b:\n",
    "                antinode_coodinates.append(get_antinode_coordinate(coordinates[point_a], coordinates[point_b]))\n",
    "    \n",
    "    return antinode_coodinates\n",
    "\n",
    "\n",
    "# Return verified antinode coordinates.\n",
    "def verify_antinode_coordinates(coordinates, map):\n",
    "\n",
    "    antinode_coordinates = []\n",
    "\n",
    "    for i in range(len(coordinates)):\n",
    "        if ((coordinates[i][0] >= 0) and \n",
    "            (coordinates[i][0] < len(map)) and\n",
    "            (coordinates[i][1] >= 0) and\n",
    "            (coordinates[i][1] < len(map))):\n",
    "            \n",
    "            antinode_coordinates.append(coordinates[i])\n",
    "\n",
    "    return antinode_coordinates"
   ]
  },
  {
   "cell_type": "code",
   "execution_count": 201,
   "metadata": {},
   "outputs": [
    {
     "data": {
      "text/plain": [
       "(256, 2)"
      ]
     },
     "execution_count": 201,
     "metadata": {},
     "output_type": "execute_result"
    }
   ],
   "source": [
    "# Identify unique characters.\n",
    "unique_antennaes = np.unique(input)\n",
    "\n",
    "# Identify coordinates per character.\n",
    "antinode_coordinates = []\n",
    "\n",
    "for i in unique_antennaes:\n",
    "    if (i != '.'):\n",
    "        antennae_coordinates = get_antennae_coordinates(input, i)\n",
    "        antinode_coordinates.extend(get_antinode_coordinates(antennae_coordinates))\n",
    "\n",
    "antinode_coordinates = verify_antinode_coordinates(antinode_coordinates, input)\n",
    "antinode_coordinates = np.unique(antinode_coordinates, axis=0)\n",
    "antinode_coordinates.shape\n"
   ]
  },
  {
   "cell_type": "code",
   "execution_count": 203,
   "metadata": {},
   "outputs": [
    {
     "data": {
      "text/plain": [
       "256"
      ]
     },
     "execution_count": 203,
     "metadata": {},
     "output_type": "execute_result"
    }
   ],
   "source": [
    "answer_a = len(antinode_coordinates)\n",
    "answer_a"
   ]
  },
  {
   "cell_type": "code",
   "execution_count": null,
   "metadata": {},
   "outputs": [],
   "source": [
    "# Visualise the antinodes\n",
    "map = np.full((12,12),'.')\n",
    "\n",
    "def fill_map(coords, map):\n",
    "    for i in range(len(coords)):\n",
    "        print(coords[i][0], coords[i][1])\n",
    "        map[coords[i][0]][coords[i][1]] = '#'\n",
    "\n",
    "    return map\n",
    "\n",
    "fill_map(antinode_coordinates, map)"
   ]
  },
  {
   "cell_type": "code",
   "execution_count": 204,
   "metadata": {},
   "outputs": [
    {
     "name": "stderr",
     "output_type": "stream",
     "text": [
      "current_day is only available in December (EST)\n"
     ]
    },
    {
     "name": "stdout",
     "output_type": "stream",
     "text": [
      "\u001b[32mThat's the right answer!  You are one gold star closer to finding the Chief Historian. [Continue to Part Two]\u001b[0m\n"
     ]
    }
   ],
   "source": [
    "response = aocd.submit(answer_a, part=1, day=day, year=year, session=session_id, reopen=False)\n",
    "# 342 is too high."
   ]
  },
  {
   "cell_type": "markdown",
   "metadata": {},
   "source": [
    "# Part 2"
   ]
  },
  {
   "cell_type": "code",
   "execution_count": 206,
   "metadata": {},
   "outputs": [
    {
     "name": "stdout",
     "output_type": "stream",
     "text": [
      "[['.' '.' '.' '.' '.' '.' '.' '.' '.' '.' '.' '.']\n",
      " ['.' '.' '.' '.' '.' '.' '.' '.' '0' '.' '.' '.']\n",
      " ['.' '.' '.' '.' '.' '0' '.' '.' '.' '.' '.' '.']\n",
      " ['.' '.' '.' '.' '.' '.' '.' '0' '.' '.' '.' '.']\n",
      " ['.' '.' '.' '.' '0' '.' '.' '.' '.' '.' '.' '.']\n",
      " ['.' '.' '.' '.' '.' '.' 'A' '.' '.' '.' '.' '.']\n",
      " ['.' '.' '.' '.' '.' '.' '.' '.' '.' '.' '.' '.']\n",
      " ['.' '.' '.' '.' '.' '.' '.' '.' '.' '.' '.' '.']\n",
      " ['.' '.' '.' '.' '.' '.' '.' '.' 'A' '.' '.' '.']\n",
      " ['.' '.' '.' '.' '.' '.' '.' '.' '.' 'A' '.' '.']\n",
      " ['.' '.' '.' '.' '.' '.' '.' '.' '.' '.' '.' '.']\n",
      " ['.' '.' '.' '.' '.' '.' '.' '.' '.' '.' '.' '.']]\n",
      "(12, 12)\n",
      "['.' '0' 'A']\n"
     ]
    }
   ],
   "source": [
    "# Define and prepare input data. \n",
    "# input = data                    # INPUT DATA\n",
    "input = eg_data.splitlines()  # EG DATA\n",
    "\n",
    "for i in range(len(input)):\n",
    "    input[i] = list(input[i])\n",
    "\n",
    "import numpy as np\n",
    "input = np.array(input)\n",
    "print(input)\n",
    "print(input.shape)\n",
    "print(np.unique(input))"
   ]
  },
  {
   "cell_type": "code",
   "execution_count": 207,
   "metadata": {},
   "outputs": [
    {
     "data": {
      "text/plain": [
       "(14, 2)"
      ]
     },
     "execution_count": 207,
     "metadata": {},
     "output_type": "execute_result"
    }
   ],
   "source": [
    "# Identify unique characters.\n",
    "unique_antennaes = np.unique(input)\n",
    "\n",
    "# Identify coordinates per character.\n",
    "antinode_coordinates = []\n",
    "\n",
    "for i in unique_antennaes:\n",
    "    if (i != '.'):\n",
    "        antennae_coordinates = get_antennae_coordinates(input, i)\n",
    "        antinode_coordinates.extend(get_antinode_coordinates(antennae_coordinates))\n",
    "\n",
    "antinode_coordinates = verify_antinode_coordinates(antinode_coordinates, input)\n",
    "antinode_coordinates = np.unique(antinode_coordinates, axis=0)\n",
    "antinode_coordinates.shape\n"
   ]
  },
  {
   "cell_type": "code",
   "execution_count": 208,
   "metadata": {},
   "outputs": [
    {
     "data": {
      "text/plain": [
       "array([[1, 8],\n",
       "       [2, 5],\n",
       "       [3, 7],\n",
       "       [4, 4]])"
      ]
     },
     "execution_count": 208,
     "metadata": {},
     "output_type": "execute_result"
    }
   ],
   "source": [
    "antennae_coordinates = get_antennae_coordinates(input, '0')\n",
    "antennae_coordinates"
   ]
  },
  {
   "cell_type": "code",
   "execution_count": null,
   "metadata": {},
   "outputs": [],
   "source": []
  },
  {
   "cell_type": "code",
   "execution_count": null,
   "metadata": {},
   "outputs": [],
   "source": []
  },
  {
   "cell_type": "code",
   "execution_count": 171,
   "metadata": {},
   "outputs": [],
   "source": [
    "# response = aocd.submit(answer_b, part=2, day=day, year=year, session=session_id, reopen=False)"
   ]
  }
 ],
 "metadata": {
  "kernelspec": {
   "display_name": "base",
   "language": "python",
   "name": "python3"
  },
  "language_info": {
   "codemirror_mode": {
    "name": "ipython",
    "version": 3
   },
   "file_extension": ".py",
   "mimetype": "text/x-python",
   "name": "python",
   "nbconvert_exporter": "python",
   "pygments_lexer": "ipython3",
   "version": "3.10.9"
  }
 },
 "nbformat": 4,
 "nbformat_minor": 2
}
