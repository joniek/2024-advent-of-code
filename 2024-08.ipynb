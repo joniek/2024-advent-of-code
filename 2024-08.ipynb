{
 "cells": [
  {
   "cell_type": "markdown",
   "metadata": {},
   "source": [
    "# 2024-08"
   ]
  },
  {
   "cell_type": "code",
   "execution_count": 2,
   "metadata": {},
   "outputs": [],
   "source": [
    "import aocd, setup\n",
    "\n",
    "# Get Puzzle on this Year and Day.\n",
    "year = 2024\n",
    "day = 8\n",
    "session_id = setup.get_sessionid()  # current session id\n",
    "\n",
    "puzzle = aocd.get_puzzle(session_id, year=year, day=day)            # get puzzle info\n",
    "data = aocd.get_data(session_id, year=year, day=day).splitlines()   # get input data\n"
   ]
  },
  {
   "cell_type": "code",
   "execution_count": 10,
   "metadata": {},
   "outputs": [
    {
     "name": "stdout",
     "output_type": "stream",
     "text": [
      "Input length: 50\n",
      "Input sample:\n",
      "....h.....Q..............Y........................\n",
      "...............................Y........C.........\n",
      "...............m..........x................B......\n",
      "........................Y..............qB.........\n",
      "......g4.........................h..Y.....q...c...\n",
      "................n.....R...........................\n",
      ".......................................w........5.\n",
      "\n",
      "Input example:\n",
      "............\n",
      "........0...\n",
      ".....0......\n",
      ".......0....\n",
      "....0.......\n",
      "......A.....\n",
      "............\n",
      "............\n",
      "........A...\n",
      ".........A..\n",
      "............\n",
      "............\n",
      "answer a: 14\n",
      "answer b: 34\n",
      "extra: None\n"
     ]
    }
   ],
   "source": [
    "# Review the data and examples.\n",
    "print(\"Input length:\", len(data))\n",
    "print(\"Input sample:\")\n",
    "\n",
    "for i in range(7):\n",
    "    print(data[i])\n",
    "\n",
    "eg_data = puzzle.examples[0].input_data\n",
    "print(\"\\nInput example:\")\n",
    "print(eg_data)\n",
    "\n",
    "eg_answer_a = puzzle.examples[0].answer_a\n",
    "print(\"answer a:\", eg_answer_a)\n",
    "eg_answer_b = puzzle.examples[0].answer_b\n",
    "print(\"answer b:\", eg_answer_b)\n",
    "eg_extra = puzzle.examples[0].extra\n",
    "print(\"extra:\", eg_extra)\n"
   ]
  },
  {
   "cell_type": "markdown",
   "metadata": {},
   "source": [
    "# Part 1"
   ]
  },
  {
   "cell_type": "code",
   "execution_count": 205,
   "metadata": {},
   "outputs": [
    {
     "name": "stdout",
     "output_type": "stream",
     "text": [
      "[['.' '.' '.' '.' '.' '.' '.' '.' '.' '.' '.' '.']\n",
      " ['.' '.' '.' '.' '.' '.' '.' '.' '0' '.' '.' '.']\n",
      " ['.' '.' '.' '.' '.' '0' '.' '.' '.' '.' '.' '.']\n",
      " ['.' '.' '.' '.' '.' '.' '.' '0' '.' '.' '.' '.']\n",
      " ['.' '.' '.' '.' '0' '.' '.' '.' '.' '.' '.' '.']\n",
      " ['.' '.' '.' '.' '.' '.' 'A' '.' '.' '.' '.' '.']\n",
      " ['.' '.' '.' '.' '.' '.' '.' '.' '.' '.' '.' '.']\n",
      " ['.' '.' '.' '.' '.' '.' '.' '.' '.' '.' '.' '.']\n",
      " ['.' '.' '.' '.' '.' '.' '.' '.' 'A' '.' '.' '.']\n",
      " ['.' '.' '.' '.' '.' '.' '.' '.' '.' 'A' '.' '.']\n",
      " ['.' '.' '.' '.' '.' '.' '.' '.' '.' '.' '.' '.']\n",
      " ['.' '.' '.' '.' '.' '.' '.' '.' '.' '.' '.' '.']]\n",
      "(12, 12)\n",
      "['.' '0' 'A']\n"
     ]
    }
   ],
   "source": [
    "# Define and prepare input data. \n",
    "# input = data                    # INPUT DATA\n",
    "input = eg_data.splitlines()  # EG DATA\n",
    "\n",
    "for i in range(len(input)):\n",
    "    input[i] = list(input[i])\n",
    "\n",
    "import numpy as np\n",
    "input = np.array(input)\n",
    "print(input)\n",
    "print(input.shape)\n",
    "print(np.unique(input))"
   ]
  },
  {
   "cell_type": "code",
   "execution_count": 12,
   "metadata": {},
   "outputs": [],
   "source": [
    "# Returns [x,y] coordinates for a character in a map.\n",
    "def get_antennae_coordinates(map, character):\n",
    "    row, col = np.where(map == character)\n",
    "    antennaes = np.concatenate((row,col))\n",
    "    antennaes = antennaes.reshape(2, len(row))\n",
    "    return antennaes.transpose()\n",
    "\n",
    "    \n",
    "# Returns the antinode coordinate, given two points. \n",
    "def get_antinode_coordinate(antennae_a, antennae_b):\n",
    "    return [antennae_b[0] - (antennae_a[0] - antennae_b[0]), antennae_b[1] - (antennae_a[1] - antennae_b[1])]\n",
    "\n",
    "\n",
    "# Returns a list of antinode coordinates given a list of Antennae coordinates. \n",
    "def get_antinode_coordinates(coordinates):\n",
    "    antinode_coodinates = []\n",
    "\n",
    "    for point_a in range(len(coordinates)):\n",
    "        for point_b in range(len(coordinates)):\n",
    "\n",
    "            if point_a != point_b:\n",
    "                antinode_coodinates.append(get_antinode_coordinate(coordinates[point_a], coordinates[point_b]))\n",
    "    \n",
    "    return antinode_coodinates\n",
    "\n",
    "\n",
    "# Return verified antinode coordinates.\n",
    "def verify_antinode_coordinates(coordinates, map):\n",
    "\n",
    "    antinode_coordinates = []\n",
    "\n",
    "    for i in range(len(coordinates)):\n",
    "        if ((coordinates[i][0] >= 0) and \n",
    "            (coordinates[i][0] < len(map)) and\n",
    "            (coordinates[i][1] >= 0) and\n",
    "            (coordinates[i][1] < len(map))):\n",
    "            \n",
    "            antinode_coordinates.append(coordinates[i])\n",
    "\n",
    "    return antinode_coordinates"
   ]
  },
  {
   "cell_type": "code",
   "execution_count": 13,
   "metadata": {},
   "outputs": [
    {
     "data": {
      "text/plain": [
       "(14, 2)"
      ]
     },
     "execution_count": 13,
     "metadata": {},
     "output_type": "execute_result"
    }
   ],
   "source": [
    "# Identify unique characters.\n",
    "unique_antennaes = np.unique(input)\n",
    "\n",
    "# Identify coordinates per character.\n",
    "antinode_coordinates = []\n",
    "\n",
    "for i in unique_antennaes:\n",
    "    if (i != '.'):\n",
    "        antennae_coordinates = get_antennae_coordinates(input, i)\n",
    "        antinode_coordinates.extend(get_antinode_coordinates(antennae_coordinates))\n",
    "\n",
    "antinode_coordinates = verify_antinode_coordinates(antinode_coordinates, input)\n",
    "antinode_coordinates = np.unique(antinode_coordinates, axis=0)\n",
    "antinode_coordinates.shape\n"
   ]
  },
  {
   "cell_type": "code",
   "execution_count": 14,
   "metadata": {},
   "outputs": [
    {
     "data": {
      "text/plain": [
       "14"
      ]
     },
     "execution_count": 14,
     "metadata": {},
     "output_type": "execute_result"
    }
   ],
   "source": [
    "answer_a = len(antinode_coordinates)\n",
    "answer_a"
   ]
  },
  {
   "cell_type": "code",
   "execution_count": 118,
   "metadata": {},
   "outputs": [
    {
     "name": "stdout",
     "output_type": "stream",
     "text": [
      "0 0\n",
      "0 1\n",
      "0 6\n",
      "0 11\n",
      "1 1\n",
      "1 3\n",
      "2 2\n",
      "2 4\n",
      "2 10\n",
      "3 2\n",
      "3 3\n",
      "4 4\n",
      "4 9\n",
      "5 1\n",
      "5 5\n",
      "5 6\n",
      "5 11\n",
      "6 3\n",
      "6 6\n",
      "7 0\n",
      "7 5\n",
      "7 7\n",
      "8 2\n",
      "9 4\n",
      "10 1\n",
      "10 10\n",
      "11 3\n",
      "11 10\n",
      "11 11\n"
     ]
    },
    {
     "data": {
      "text/plain": [
       "array([['#', '#', '.', '.', '.', '.', '#', '.', '.', '.', '.', '#'],\n",
       "       ['.', '#', '.', '#', '.', '.', '.', '.', '.', '.', '.', '.'],\n",
       "       ['.', '.', '#', '.', '#', '.', '.', '.', '.', '.', '#', '.'],\n",
       "       ['.', '.', '#', '#', '.', '.', '.', '.', '.', '.', '.', '.'],\n",
       "       ['.', '.', '.', '.', '#', '.', '.', '.', '.', '#', '.', '.'],\n",
       "       ['.', '#', '.', '.', '.', '#', '#', '.', '.', '.', '.', '#'],\n",
       "       ['.', '.', '.', '#', '.', '.', '#', '.', '.', '.', '.', '.'],\n",
       "       ['#', '.', '.', '.', '.', '#', '.', '#', '.', '.', '.', '.'],\n",
       "       ['.', '.', '#', '.', '.', '.', '.', '.', '.', '.', '.', '.'],\n",
       "       ['.', '.', '.', '.', '#', '.', '.', '.', '.', '.', '.', '.'],\n",
       "       ['.', '#', '.', '.', '.', '.', '.', '.', '.', '.', '#', '.'],\n",
       "       ['.', '.', '.', '#', '.', '.', '.', '.', '.', '.', '#', '#']],\n",
       "      dtype='<U1')"
      ]
     },
     "execution_count": 118,
     "metadata": {},
     "output_type": "execute_result"
    }
   ],
   "source": [
    "# Visualise the antinodes\n",
    "map = np.full((12,12),'.')\n",
    "\n",
    "def fill_map(coords, map):\n",
    "    for i in range(len(coords)):\n",
    "        print(coords[i][0], coords[i][1])\n",
    "        map[coords[i][0]][coords[i][1]] = '#'\n",
    "\n",
    "    return map\n",
    "\n",
    "fill_map(antinode_coordinates, map)"
   ]
  },
  {
   "cell_type": "code",
   "execution_count": null,
   "metadata": {},
   "outputs": [
    {
     "name": "stderr",
     "output_type": "stream",
     "text": [
      "current_day is only available in December (EST)\n"
     ]
    },
    {
     "name": "stdout",
     "output_type": "stream",
     "text": [
      "\u001b[32mThat's the right answer!  You are one gold star closer to finding the Chief Historian. [Continue to Part Two]\u001b[0m\n"
     ]
    }
   ],
   "source": [
    "# response = aocd.submit(answer_a, part=1, day=day, year=year, session=session_id, reopen=False)\n",
    "# 342 is too high."
   ]
  },
  {
   "cell_type": "markdown",
   "metadata": {},
   "source": [
    "# Part 2"
   ]
  },
  {
   "cell_type": "code",
   "execution_count": 124,
   "metadata": {},
   "outputs": [
    {
     "name": "stdout",
     "output_type": "stream",
     "text": [
      "[['.' '.' '.' ... '.' '.' '.']\n",
      " ['.' '.' '.' ... '.' '.' '.']\n",
      " ['.' '.' '.' ... '.' '.' '.']\n",
      " ...\n",
      " ['.' '.' '.' ... '.' '.' '.']\n",
      " ['.' '.' '.' ... '.' '.' '.']\n",
      " ['.' '.' '.' ... '.' '.' '.']]\n",
      "(50, 50)\n",
      "['.' '0' '1' '2' '3' '4' '5' '6' '7' '8' '9' 'A' 'B' 'C' 'D' 'E' 'G' 'H'\n",
      " 'I' 'K' 'M' 'N' 'Q' 'R' 'V' 'W' 'X' 'Y' 'a' 'b' 'c' 'd' 'e' 'g' 'h' 'i'\n",
      " 'k' 'm' 'n' 'q' 'r' 'v' 'w' 'x' 'y']\n"
     ]
    }
   ],
   "source": [
    "# Define and prepare input data. \n",
    "input = data                    # INPUT DATA\n",
    "# input = eg_data.splitlines()  # EG DATA\n",
    "\n",
    "for i in range(len(input)):\n",
    "    input[i] = list(input[i])\n",
    "\n",
    "import numpy as np\n",
    "input = np.array(input)\n",
    "print(input)\n",
    "print(input.shape)\n",
    "print(np.unique(input))"
   ]
  },
  {
   "cell_type": "code",
   "execution_count": 93,
   "metadata": {},
   "outputs": [],
   "source": [
    "# Return distance between coordinates.\n",
    "def get_distance(coord_a, coord_b):\n",
    "    return [(coord_a[0] - coord_b[0]), (coord_a[1] - coord_b[1])]\n",
    "\n",
    "    \n",
    "# Verify if coordinate is within bounds. \n",
    "def is_inbound(coord, map):\n",
    "    if ((coord[0] >= 0) and \n",
    "        (coord[0] < len(map)) and\n",
    "        (coord[1] >= 0) and\n",
    "        (coord[1] < len(map))):\n",
    "        return True\n",
    "    return False\n",
    "\n",
    "\n",
    "# Get a list of antinode coordinates until end of boundary.\n",
    "def get_next_antinode_coords(coord_b, distance, map):\n",
    "    next_coords = []\n",
    "    valid_coord = True\n",
    "    start_coord = coord_b\n",
    "\n",
    "    while (valid_coord):\n",
    "        new_coord = [(start_coord[0] + distance[0]), (start_coord[1] + distance[1])]\n",
    "\n",
    "        if not (is_inbound(new_coord, map)):\n",
    "            valid_coord = False\n",
    "            break\n",
    "\n",
    "        next_coords.append(new_coord)\n",
    "        start_coord = new_coord\n",
    "    \n",
    "    return next_coords\n",
    "\n"
   ]
  },
  {
   "cell_type": "code",
   "execution_count": 94,
   "metadata": {},
   "outputs": [],
   "source": [
    "# Returns a list of antinode coordinates given a list of Antennae coordinates. \n",
    "def get_antinode_coordinates_p2(coordinates, map):\n",
    "    antinode_coordinates = np.array([])\n",
    "\n",
    "    for point_a in range(len(coordinates)):\n",
    "        for point_b in range(len(coordinates)):\n",
    "\n",
    "            if point_a != point_b:\n",
    "                distance = get_distance(coordinates[point_a], coordinates[point_b])                \n",
    "                ntc = np.array(get_next_antinode_coords(coordinates[point_a], distance, map))\n",
    "\n",
    "                if (len(ntc) > 0):\n",
    "                    if (len(antinode_coordinates) == 0):\n",
    "                        antinode_coordinates = ntc.copy()\n",
    "                    else:\n",
    "                        antinode_coordinates = np.concatenate((antinode_coordinates,ntc))\n",
    "    \n",
    "    return antinode_coordinates\n"
   ]
  },
  {
   "cell_type": "code",
   "execution_count": 125,
   "metadata": {},
   "outputs": [
    {
     "name": "stdout",
     "output_type": "stream",
     "text": [
      "Unique antennaes: ['.' '0' '1' '2' '3' '4' '5' '6' '7' '8' '9' 'A' 'B' 'C' 'D' 'E' 'G' 'H'\n",
      " 'I' 'K' 'M' 'N' 'Q' 'R' 'V' 'W' 'X' 'Y' 'a' 'b' 'c' 'd' 'e' 'g' 'h' 'i'\n",
      " 'k' 'm' 'n' 'q' 'r' 'v' 'w' 'x' 'y']\n",
      "shape: (1005, 2)\n"
     ]
    }
   ],
   "source": [
    "# Identify unique characters.\n",
    "unique_antennaes = np.unique(input)\n",
    "print(\"Unique antennaes:\", unique_antennaes)\n",
    "\n",
    "# Identify coordinates per character.\n",
    "antinode_coordinates = []\n",
    "\n",
    "for i in unique_antennaes:\n",
    "    if (i != '.'):\n",
    "        antennae_coordinates = get_antennae_coordinates(input, i)\n",
    "        # print('\\t',i)\n",
    "        # print(antennae_coordinates)\n",
    "\n",
    "        antinode_coords = get_antinode_coordinates_p2(antennae_coordinates, input)\n",
    "        antinode_coordinates.extend(antinode_coords)\n",
    "        antinode_coordinates.extend(antennae_coordinates)\n",
    "\n",
    "        # print(antinode_coords)\n",
    "\n",
    "# antinode_coordinates = verify_antinode_coordinates(antinode_coordinates, input)\n",
    "antinode_coordinates = np.unique(antinode_coordinates, axis=0)\n",
    "print('shape:', antinode_coordinates.shape)\n",
    "# print(antinode_coordinates)\n",
    "\n",
    "\n",
    "# print(\"Antinode Coordinates:\", antinode_coordinates)\n",
    "\n",
    "# print(antennae_coordinates)"
   ]
  },
  {
   "cell_type": "code",
   "execution_count": 128,
   "metadata": {},
   "outputs": [
    {
     "data": {
      "text/plain": [
       "1005"
      ]
     },
     "execution_count": 128,
     "metadata": {},
     "output_type": "execute_result"
    }
   ],
   "source": [
    "answer_b = antinode_coordinates.shape[0]\n",
    "answer_b"
   ]
  },
  {
   "cell_type": "code",
   "execution_count": 129,
   "metadata": {},
   "outputs": [
    {
     "name": "stderr",
     "output_type": "stream",
     "text": [
      "current_day is only available in December (EST)\n"
     ]
    },
    {
     "name": "stdout",
     "output_type": "stream",
     "text": [
      "\u001b[32mThat's the right answer!  You are one gold star closer to finding the Chief Historian.You have completed Day 8! You can [Shareon\n",
      "  Bluesky\n",
      "Twitter\n",
      "Mastodon] this victory or [Return to Your Advent Calendar].\u001b[0m\n"
     ]
    }
   ],
   "source": [
    "response = aocd.submit(answer_b, part=2, day=day, year=year, session=session_id, reopen=False)"
   ]
  }
 ],
 "metadata": {
  "kernelspec": {
   "display_name": "base",
   "language": "python",
   "name": "python3"
  },
  "language_info": {
   "codemirror_mode": {
    "name": "ipython",
    "version": 3
   },
   "file_extension": ".py",
   "mimetype": "text/x-python",
   "name": "python",
   "nbconvert_exporter": "python",
   "pygments_lexer": "ipython3",
   "version": "3.10.9"
  }
 },
 "nbformat": 4,
 "nbformat_minor": 2
}
