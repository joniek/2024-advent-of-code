{
 "cells": [
  {
   "cell_type": "markdown",
   "metadata": {},
   "source": [
    "# 2024 TEMPLATE\n",
    "**Helpful resources**  \n",
    "[Real Python - Advent of Code: Solving Your Puzzles With Python](https://realpython.com/python-advent-of-code/)  \n",
    "[Advent of Code Python Doc](https://github.com/wimglenn/advent-of-code-data/tree/main)"
   ]
  },
  {
   "cell_type": "markdown",
   "metadata": {},
   "source": [
    "# 2024-07"
   ]
  },
  {
   "cell_type": "code",
   "execution_count": 1,
   "metadata": {},
   "outputs": [],
   "source": [
    "import aocd, setup\n",
    "\n",
    "# Get Puzzle on this Year and Day.\n",
    "year = 2024\n",
    "day = 7\n",
    "session_id = setup.get_sessionid()  # current session id\n",
    "\n",
    "puzzle = aocd.get_puzzle(session_id, year=year, day=day)            # get puzzle info\n",
    "data = aocd.get_data(session_id, year=year, day=day).splitlines()   # get input data\n"
   ]
  },
  {
   "cell_type": "code",
   "execution_count": 2,
   "metadata": {},
   "outputs": [
    {
     "name": "stdout",
     "output_type": "stream",
     "text": [
      "Input length: 850\n",
      "Input sample:\n",
      "9160: 5 209 15 8 5\n",
      "12863083290: 9 72 13 7 5 3 4 2 264 90\n",
      "17326234: 56 433 82 5 4 9 48 1 10\n",
      "2252716342: 645 706 51 97 952\n",
      "70761644: 5 20 28 9 34 585 1 4\n",
      "316719720: 308 8 7 197 20\n",
      "183285: 3 995 6 7 2 4 5 9 4 5 220\n",
      "\n",
      "Input example:\n",
      "190: 10 19\n",
      "3267: 81 40 27\n",
      "83: 17 5\n",
      "156: 15 6\n",
      "7290: 6 8 6 15\n",
      "161011: 16 10 13\n",
      "192: 17 8 14\n",
      "21037: 9 7 18 13\n",
      "292: 11 6 16 20\n",
      "answer a: 3749\n",
      "answer b: None\n",
      "extra: None\n"
     ]
    }
   ],
   "source": [
    "# Review the data and examples.\n",
    "print(\"Input length:\", len(data))\n",
    "print(\"Input sample:\")\n",
    "\n",
    "for i in range(7):\n",
    "    print(data[i])\n",
    "\n",
    "eg_data = puzzle.examples[0].input_data\n",
    "print(\"\\nInput example:\")\n",
    "print(eg_data)\n",
    "\n",
    "eg_answer_a = puzzle.examples[0].answer_a\n",
    "print(\"answer a:\", eg_answer_a)\n",
    "eg_answer_b = puzzle.examples[0].answer_b\n",
    "print(\"answer b:\", eg_answer_b)\n",
    "eg_extra = puzzle.examples[0].extra\n",
    "print(\"extra:\", eg_extra)\n"
   ]
  },
  {
   "cell_type": "markdown",
   "metadata": {},
   "source": [
    "# Part 1"
   ]
  },
  {
   "cell_type": "markdown",
   "metadata": {},
   "source": [
    "## Processing the data into arrays RESULTS and VALUES."
   ]
  },
  {
   "cell_type": "code",
   "execution_count": 93,
   "metadata": {},
   "outputs": [
    {
     "name": "stdout",
     "output_type": "stream",
     "text": [
      "9 [190, 3267, 83, 156, 7290, 161011, 192, 21037, 292]\n",
      "9 [[10, 19], [81, 40, 27], [17, 5], [15, 6], [6, 8, 6, 15], [16, 10, 13], [17, 8, 14], [9, 7, 18, 13], [11, 6, 16, 20]]\n"
     ]
    }
   ],
   "source": [
    "# Select and preprocess the dataset. \n",
    "input = eg_data.splitlines()    # Split data into lines. \n",
    "# input = data\n",
    "\n",
    "results = []                    # RESULTS array\n",
    "values = []                     # VALUES array\n",
    "\n",
    "# For each line, split and convert Results and Values into Int.\n",
    "for i in input:\n",
    "    temp_result = []\n",
    "    temp_values = []\n",
    "    \n",
    "    temp_result, temp_values = i.split(':')         # Split Results and Values.\n",
    "\n",
    "    results.append(int(temp_result))                # Append to RESULTS array.\n",
    "\n",
    "    temp_values = temp_values.strip().split(' ')    # Strip white spaces, and split the values into an array.\n",
    "    temp_values_array = []\n",
    "    for i in temp_values:                           # Convert each value into an int. \n",
    "        temp_values_array.append(int(i))\n",
    "    values.append(temp_values_array)                # Append to VALUES array.\n",
    "\n",
    "\n",
    "print(len(results), results)\n",
    "print(len(values), values)"
   ]
  },
  {
   "cell_type": "code",
   "execution_count": 116,
   "metadata": {},
   "outputs": [
    {
     "name": "stdout",
     "output_type": "stream",
     "text": [
      "2 3 6\n",
      "6 4 24\n",
      "[24] ['*', '*']\n"
     ]
    }
   ],
   "source": [
    "def recursive(source, operators):\n",
    "    if len(source) == 1:\n",
    "        return [source, operators]\n",
    "\n",
    "    a = source.pop(0)\n",
    "    b = source.pop(0)\n",
    "\n",
    "    print(a,b,a * b)\n",
    "    \n",
    "    source.insert(0, a * b)\n",
    "    operators.append('*')\n",
    "    \n",
    "    return recursive(source, operators)\n",
    "\n",
    "\n",
    "source = [2,3,4]\n",
    "operators = []\n",
    "[output, operators] = recursive(source, operators)\n",
    "print(output, operators)"
   ]
  },
  {
   "cell_type": "code",
   "execution_count": null,
   "metadata": {},
   "outputs": [],
   "source": []
  },
  {
   "cell_type": "code",
   "execution_count": null,
   "metadata": {},
   "outputs": [],
   "source": []
  },
  {
   "cell_type": "code",
   "execution_count": null,
   "metadata": {},
   "outputs": [],
   "source": []
  },
  {
   "cell_type": "code",
   "execution_count": null,
   "metadata": {},
   "outputs": [],
   "source": [
    "# response = aocd.submit(answer_a, part=1, day=day, year=year, session=session_id, reopen=False)"
   ]
  },
  {
   "cell_type": "markdown",
   "metadata": {},
   "source": [
    "# Part 2"
   ]
  },
  {
   "cell_type": "code",
   "execution_count": null,
   "metadata": {},
   "outputs": [],
   "source": []
  },
  {
   "cell_type": "code",
   "execution_count": null,
   "metadata": {},
   "outputs": [],
   "source": [
    "# response = aocd.submit(answer_b, part=2, day=day, year=year, session=session_id, reopen=False)"
   ]
  }
 ],
 "metadata": {
  "kernelspec": {
   "display_name": "base",
   "language": "python",
   "name": "python3"
  },
  "language_info": {
   "codemirror_mode": {
    "name": "ipython",
    "version": 3
   },
   "file_extension": ".py",
   "mimetype": "text/x-python",
   "name": "python",
   "nbconvert_exporter": "python",
   "pygments_lexer": "ipython3",
   "version": "3.10.9"
  }
 },
 "nbformat": 4,
 "nbformat_minor": 2
}
