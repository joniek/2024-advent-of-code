{
 "cells": [
  {
   "cell_type": "markdown",
   "metadata": {},
   "source": [
    "# 2024-06"
   ]
  },
  {
   "cell_type": "code",
   "execution_count": 5,
   "metadata": {},
   "outputs": [],
   "source": [
    "import aocd, setup, utilities as ut\n",
    "\n",
    "# Get Puzzle on this Year and Day.\n",
    "year = 2024\n",
    "day = 6\n",
    "session_id = setup.get_sessionid()  # current session id\n",
    "\n",
    "puzzle = aocd.get_puzzle(session_id, year=year, day=day)            # get puzzle info\n",
    "data = aocd.get_data(session_id, year=year, day=day).splitlines()   # get input data\n"
   ]
  },
  {
   "cell_type": "code",
   "execution_count": 6,
   "metadata": {},
   "outputs": [
    {
     "name": "stdout",
     "output_type": "stream",
     "text": [
      "Input length: 130\n",
      "Input sample:\n",
      "..........#.............................#...............#...........#....................#...........#............................\n",
      "..............................#.......#...#.....#.....#...............#.#..#.......................#............#.................\n",
      ".............#...........#.#........#............#..........................#.........#.......#......#............................\n",
      "......................................................#....#..#.............#................................#...#............##..\n",
      "...............#.....#....................................#......................................................#................\n",
      "..................##............#......#...............................................................#...................#......\n",
      ".#......#...........................................................#............................#................................\n",
      "\n",
      "Input example:\n",
      "....#.....\n",
      ".........#\n",
      "..........\n",
      "..#.......\n",
      ".......#..\n",
      "..........\n",
      ".#..^.....\n",
      "........#.\n",
      "#.........\n",
      "......#...\n",
      "answer a: 41\n",
      "answer b: 6\n",
      "extra: None\n"
     ]
    }
   ],
   "source": [
    "# Review the data and examples.\n",
    "print(\"Input length:\", len(data))\n",
    "print(\"Input sample:\")\n",
    "\n",
    "for i in range(7):\n",
    "    print(data[i])\n",
    "\n",
    "eg_data = puzzle.examples[0].input_data\n",
    "print(\"\\nInput example:\")\n",
    "print(eg_data)\n",
    "\n",
    "eg_answer_a = puzzle.examples[0].answer_a\n",
    "print(\"answer a:\", eg_answer_a)\n",
    "eg_answer_b = puzzle.examples[0].answer_b\n",
    "print(\"answer b:\", eg_answer_b)\n",
    "eg_extra = puzzle.examples[0].extra\n",
    "print(\"extra:\", eg_extra)\n"
   ]
  },
  {
   "cell_type": "markdown",
   "metadata": {},
   "source": [
    "# Part 1"
   ]
  },
  {
   "cell_type": "code",
   "execution_count": 18,
   "metadata": {},
   "outputs": [
    {
     "name": "stdout",
     "output_type": "stream",
     "text": [
      "[['.' '.' '.' '.' '#' '.' '.' '.' '.' '.']\n",
      " ['.' '.' '.' '.' '.' '.' '.' '.' '.' '#']\n",
      " ['.' '.' '.' '.' '.' '.' '.' '.' '.' '.']\n",
      " ['.' '.' '#' '.' '.' '.' '.' '.' '.' '.']\n",
      " ['.' '.' '.' '.' '.' '.' '.' '#' '.' '.']\n",
      " ['.' '.' '.' '.' '.' '.' '.' '.' '.' '.']\n",
      " ['.' '#' '.' '.' '^' '.' '.' '.' '.' '.']\n",
      " ['.' '.' '.' '.' '.' '.' '.' '.' '#' '.']\n",
      " ['#' '.' '.' '.' '.' '.' '.' '.' '.' '.']\n",
      " ['.' '.' '.' '.' '.' '.' '#' '.' '.' '.']]\n",
      "6 4\n",
      "10 10\n"
     ]
    }
   ],
   "source": [
    "import numpy as np\n",
    "\n",
    "# Prepare map array.\n",
    "map = ut.make_array(eg_data)\n",
    "# map = ut.make_array(data)\n",
    "map = np.asarray(map)\n",
    "print(map)\n",
    "\n",
    "# Identify starting row and col. \n",
    "r_curr, c_curr = np.where(map == '^')\n",
    "r_curr, c_curr = r_curr[0], c_curr[0]\n",
    "print(r_curr, c_curr)\n",
    "# curr_loc = [r[0],c[0]]\n",
    "# print(curr_loc)\n",
    "\n",
    "# Identify max limits of the map.\n",
    "r_max, c_max = list(map.shape)\n",
    "print(r_max, c_max)"
   ]
  },
  {
   "cell_type": "code",
   "execution_count": 133,
   "metadata": {},
   "outputs": [],
   "source": [
    "# Check if current location is out of bounds.\n",
    "def is_out_of_bounds(row, col):\n",
    "    return ((row < 0) | (col < 0) | (row > r_max - 1) |  (col > c_max - 1))\n",
    "\n",
    "# Check if location is an obstacle. \n",
    "def is_obstacle(row, col, map):\n",
    "    return map[row][col] == '#'\n",
    "\n",
    "# Check if location is a test new obstacle for a loop. \n",
    "def is_new_obstacle(row, col, map):\n",
    "    return map[row][col] == '?'\n",
    "    \n",
    "# Updates map    \n",
    "def update_map(row, col, map):\n",
    "    map[row][col] = 'x'\n",
    "    return map\n",
    "\n",
    "\n",
    "# Check the next move.\n",
    "def next_move(row, col, map):\n",
    "    # Returns is_out_of_bounds, is_obstacle, map.\n",
    "\n",
    "    # Check if out of bounds. \n",
    "    if (is_out_of_bounds(row, col)):\n",
    "        return True, False\n",
    "\n",
    "    # Check if obstacle. \n",
    "    if (is_obstacle(row, col, map)):\n",
    "        return False, True\n",
    "\n",
    "    # Move\n",
    "    return False, False\n",
    "\n",
    "def go_north(row, col, map):\n",
    "\n",
    "    out_of_bounds = False\n",
    "    obstacle = False\n",
    "\n",
    "    while not ((out_of_bounds) | (obstacle)):\n",
    "        row -= 1\n",
    "        map = update_map(row, col, map)\n",
    "        out_of_bounds, obstacle = next_move(row - 1, col, map)\n",
    "    \n",
    "    # print('exit', out_of_bounds, obstacle, row, col)\n",
    "    # print(map)\n",
    "    return out_of_bounds, obstacle, row, col, map\n",
    "\n",
    "\n",
    "def go_south(row, col, map):\n",
    "\n",
    "    out_of_bounds = False\n",
    "    obstacle = False\n",
    "\n",
    "    while not ((out_of_bounds) | (obstacle)):\n",
    "        row += 1\n",
    "        map = update_map(row, col, map)\n",
    "        out_of_bounds, obstacle = next_move(row + 1, col, map)\n",
    "    \n",
    "    # print('exit', out_of_bounds, obstacle, row, col)\n",
    "    # print(map)\n",
    "    return out_of_bounds, obstacle, row, col, map\n",
    "\n",
    "\n",
    "def go_east(row, col, map):\n",
    "\n",
    "    out_of_bounds = False\n",
    "    obstacle = False\n",
    "\n",
    "    while not ((out_of_bounds) | (obstacle)):\n",
    "        col += 1\n",
    "        map = update_map(row, col, map)\n",
    "        out_of_bounds, obstacle = next_move(row, col + 1, map)\n",
    "    \n",
    "    # print('exit', out_of_bounds, obstacle, row, col)\n",
    "    # print(map)\n",
    "    return out_of_bounds, obstacle, row, col, map\n",
    "\n",
    "\n",
    "def go_west(row, col, map):\n",
    "\n",
    "    out_of_bounds = False\n",
    "    obstacle = False\n",
    "\n",
    "    while not ((out_of_bounds) | (obstacle)):\n",
    "        col -= 1\n",
    "        map = update_map(row, col, map)\n",
    "        out_of_bounds, obstacle = next_move(row, col - 1, map)\n",
    "    \n",
    "    # print('exit', out_of_bounds, obstacle, row, col)\n",
    "    # print(map)\n",
    "    return out_of_bounds, obstacle, row, col, map\n",
    "\n"
   ]
  },
  {
   "cell_type": "code",
   "execution_count": null,
   "metadata": {},
   "outputs": [],
   "source": [
    "\n",
    "def start_patrol(r_curr, c_curr, map):\n",
    "    out_of_bounds = False\n",
    "    obstacle = False\n",
    "    loop_counter = 0\n",
    "\n",
    "    map = update_map(r_curr, c_curr, map)\n",
    "    # print(map)\n",
    "\n",
    "    while (out_of_bounds == False):\n",
    "\n",
    "        out_of_bounds, obstacle, r_curr, c_curr, map = go_north(r_curr, c_curr, map)\n",
    "        # print(out_of_bounds, obstacle, r_curr, c_curr)\n",
    "        # print(map)\n",
    "        if (out_of_bounds):\n",
    "            break\n",
    "\n",
    "        out_of_bounds, obstacle, r_curr, c_curr, map = go_east(r_curr, c_curr, map)\n",
    "        # print(out_of_bounds, obstacle, r_curr, c_curr)\n",
    "        # print(map)\n",
    "        if (out_of_bounds):\n",
    "            break\n",
    "        \n",
    "        out_of_bounds, obstacle, r_curr, c_curr, map = go_south(r_curr, c_curr, map)\n",
    "        # print(out_of_bounds, obstacle, r_curr, c_curr)\n",
    "        # print(map)\n",
    "        if (out_of_bounds):\n",
    "            break\n",
    "\n",
    "        out_of_bounds, obstacle, r_curr, c_curr, map = go_west(r_curr, c_curr, map)\n",
    "        # print(out_of_bounds, obstacle, r_curr, c_curr)\n",
    "        # print(map)\n",
    "        if (out_of_bounds):\n",
    "            break\n",
    "\n",
    "    print(out_of_bounds, obstacle, r_curr, c_curr)\n",
    "    print(map)\n",
    "    return map\n",
    "\n"
   ]
  },
  {
   "cell_type": "code",
   "execution_count": 44,
   "metadata": {},
   "outputs": [
    {
     "name": "stdout",
     "output_type": "stream",
     "text": [
      "True False 9 7\n",
      "[['.' '.' '.' '.' '#' '.' '.' '.' '.' '.']\n",
      " ['.' '.' '.' '.' 'x' 'x' 'x' 'x' 'x' '#']\n",
      " ['.' '.' '.' '.' 'x' '.' '.' '.' 'x' '.']\n",
      " ['.' '.' '#' '.' 'x' '.' '.' '.' 'x' '.']\n",
      " ['.' '.' 'x' 'x' 'x' 'x' 'x' '#' 'x' '.']\n",
      " ['.' '.' 'x' '.' 'x' '.' 'x' '.' 'x' '.']\n",
      " ['.' '#' 'x' 'x' 'x' 'x' 'x' 'x' 'x' '.']\n",
      " ['.' 'x' 'x' 'x' 'x' 'x' 'x' 'x' '#' '.']\n",
      " ['#' 'x' 'x' 'x' 'x' 'x' 'x' 'x' '.' '.']\n",
      " ['.' '.' '.' '.' '.' '.' '#' 'x' '.' '.']]\n"
     ]
    },
    {
     "data": {
      "text/plain": [
       "41"
      ]
     },
     "execution_count": 44,
     "metadata": {},
     "output_type": "execute_result"
    }
   ],
   "source": [
    "map = start_patrol(r_curr, c_curr, map)\n",
    "answer_a = len(np.where(map == 'x')[0])\n",
    "answer_a"
   ]
  },
  {
   "cell_type": "code",
   "execution_count": null,
   "metadata": {},
   "outputs": [
    {
     "name": "stderr",
     "output_type": "stream",
     "text": [
      "current_day is only available in December (EST)\n"
     ]
    },
    {
     "name": "stdout",
     "output_type": "stream",
     "text": [
      "\u001b[32mThat's the right answer!  You are one gold star closer to finding the Chief Historian. [Continue to Part Two]\u001b[0m\n"
     ]
    }
   ],
   "source": [
    "# response = aocd.submit(answer_a, part=1, day=day, year=year, session=session_id, reopen=False)"
   ]
  },
  {
   "cell_type": "markdown",
   "metadata": {},
   "source": [
    "# Part 2"
   ]
  },
  {
   "cell_type": "code",
   "execution_count": 351,
   "metadata": {},
   "outputs": [],
   "source": [
    "# Resets the map to it's original state. \n",
    "def reset_map(data):\n",
    "    # Prepare the map array.\n",
    "    map = ut.make_array(data)\n",
    "    map = np.asarray(map)\n",
    "\n",
    "    # Identify starting row and col. \n",
    "    r_curr, c_curr = np.where(map == '^')\n",
    "    r_curr, c_curr = r_curr[0], c_curr[0]\n",
    "\n",
    "    # Identify max limits of the map.\n",
    "    r_max, c_max = list(map.shape)\n",
    "\n",
    "    return map, r_curr, c_curr, r_max, c_max\n",
    "\n",
    "# Add obstacle to a map.\n",
    "def add_obstacle_map(row, col, map):\n",
    "    map[row][col] = '#'\n",
    "    return map"
   ]
  },
  {
   "cell_type": "code",
   "execution_count": 350,
   "metadata": {},
   "outputs": [],
   "source": [
    "# Check if current location is out of bounds.\n",
    "def is_out_of_bounds(row, col, map):\n",
    "    return ((row < 0) | (col < 0) | (row > map.shape[0] - 1) |  (col > map.shape[1] - 1))\n",
    "\n",
    "# Check if location is an obstacle. \n",
    "def is_obstacle(row, col, map):\n",
    "    return map[row][col] == '#'\n",
    "    \n",
    "# Updates map    \n",
    "def update_map_v2(row, col, map):\n",
    "    map[row][col] = 'x'\n",
    "    return map\n"
   ]
  },
  {
   "cell_type": "code",
   "execution_count": 352,
   "metadata": {},
   "outputs": [],
   "source": [
    "# Check the next move.\n",
    "def next_move(row, col, map):\n",
    "    # Returns is_out_of_bounds, is_obstacle, map.\n",
    "\n",
    "    # Check if out of bounds. \n",
    "    if (is_out_of_bounds(row, col, map)):\n",
    "        return True, False\n",
    "\n",
    "    # Check if obstacle. \n",
    "    if (is_obstacle(row, col, map)):\n",
    "        return False, True\n",
    "\n",
    "    # Move\n",
    "    return False, False\n",
    "\n"
   ]
  },
  {
   "cell_type": "code",
   "execution_count": 353,
   "metadata": {},
   "outputs": [],
   "source": [
    "# Generic moves in one direction. \n",
    "def go_next(row, col, map, row_add, col_add):\n",
    "\n",
    "    out_of_bounds = False\n",
    "    obstacle = False\n",
    "    \n",
    "    while not ((out_of_bounds) | (obstacle)):\n",
    "        out_of_bounds, obstacle = next_move(row + row_add, col + col_add, map)  # Check for legit next move. \n",
    "        if not ((out_of_bounds) | (obstacle)):            \n",
    "            row += row_add\n",
    "            col += col_add\n",
    "            map = update_map(row, col, map)\n",
    "        # print(out_of_bounds, obstacle, row, col)\n",
    "    \n",
    "    return out_of_bounds, row, col, map\n"
   ]
  },
  {
   "cell_type": "code",
   "execution_count": 482,
   "metadata": {},
   "outputs": [
    {
     "data": {
      "text/plain": [
       "0"
      ]
     },
     "execution_count": 482,
     "metadata": {},
     "output_type": "execute_result"
    }
   ],
   "source": [
    "ttp = ([1,2],[1,2],[3,4])\n",
    "# [1,2] in ttp\n",
    "ttp.count([2,2])"
   ]
  },
  {
   "cell_type": "code",
   "execution_count": 483,
   "metadata": {},
   "outputs": [],
   "source": [
    "# Starts patrol v2\n",
    "def start_patrol_v2(r_curr, c_curr, map):\n",
    "    out_of_bounds = False\n",
    "    loop = False\n",
    "    loop_counter = 0\n",
    "    turn_coords = ()\n",
    "    directions = [[-1,0],[0,1],[1,0],[0,-1]]    # North, East, South, West.\n",
    "\n",
    "    map = update_map(r_curr, c_curr, map)   # Mark the starting position. \n",
    "\n",
    "    while ((out_of_bounds == False) and (loop == False)):\n",
    "\n",
    "        for dir in directions:\n",
    "            out_of_bounds, r_curr, c_curr, map = go_next(r_curr, c_curr, map, dir[0], dir[1]) # Move in a direction.\n",
    "            turn_coords += ([r_curr, c_curr],)  # Log turn coordinates.\n",
    "            \n",
    "            if (out_of_bounds):                 # If out of bounds, break. \n",
    "                break\n",
    "\n",
    "        if (([r_curr, c_curr] in turn_coords) and (turn_coords.count([r_curr, c_curr]) > 2)):   # If a loop, break. \n",
    "            loop = True\n",
    "            break\n",
    "            \n",
    "\n",
    "    # print(out_of_bounds, loop, r_curr, c_curr)\n",
    "    # print(map)\n",
    "    return out_of_bounds, loop, map\n",
    "\n"
   ]
  },
  {
   "cell_type": "code",
   "execution_count": 484,
   "metadata": {},
   "outputs": [
    {
     "name": "stdout",
     "output_type": "stream",
     "text": [
      "[['.' '.' '.' ... '.' '.' '.']\n",
      " ['.' '.' '.' ... '.' '.' '.']\n",
      " ['.' '.' '.' ... '.' '.' '.']\n",
      " ...\n",
      " ['.' '.' '.' ... '.' '.' '#']\n",
      " ['.' '.' '#' ... '.' '.' '.']\n",
      " ['.' '.' '.' ... '.' '#' '.']]\n",
      "71 48\n",
      "130 130\n"
     ]
    }
   ],
   "source": [
    "# Define the Dataset\n",
    "# this_data = eg_data\n",
    "this_data = data\n",
    "\n",
    "# Reset the map.\n",
    "map, r_curr, c_curr, r_max, c_max = reset_map(this_data)\n",
    "print(map)\n",
    "print(r_curr, c_curr)\n",
    "print(r_max, c_max)\n"
   ]
  },
  {
   "cell_type": "code",
   "execution_count": 485,
   "metadata": {},
   "outputs": [
    {
     "name": "stdout",
     "output_type": "stream",
     "text": [
      "4964\n"
     ]
    }
   ],
   "source": [
    "# Find the route.\n",
    "out_of_bounds, loop, map = start_patrol_v2(r_curr, c_curr, map)     # Map the route.\n",
    "route_row, route_col = np.where(map == 'x')                         # Get route coordinates.\n",
    "print(len(route_row))"
   ]
  },
  {
   "cell_type": "code",
   "execution_count": 456,
   "metadata": {},
   "outputs": [],
   "source": [
    "def print_map(map, start_row, start_col, length):\n",
    "    for r in range(length):\n",
    "        print(map[start_row+r][start_col:start_col+length], start_row+r)"
   ]
  },
  {
   "cell_type": "code",
   "execution_count": null,
   "metadata": {},
   "outputs": [],
   "source": [
    "print_map(map, 0, 40, 32)"
   ]
  },
  {
   "cell_type": "code",
   "execution_count": null,
   "metadata": {},
   "outputs": [],
   "source": [
    "loop_counter = 0\n",
    "\n",
    "for i in range(len(route_row)):     # Loop through the route. \n",
    "# for i in range(5):     # Loop through the route. \n",
    "    out_of_bounds = False\n",
    "    loop = False\n",
    "\n",
    "    map, r_curr, c_curr, r_max, c_max = reset_map(this_data)        # Reset the map.\n",
    "\n",
    "    map = add_obstacle_map(route_row[i], route_col[i], map)         # Add an obstacle in the route. \n",
    "    out_of_bounds, loop, map = start_patrol_v2(r_curr, c_curr, map) # Patrol the route. \n",
    "\n",
    "    # Count if it is a loop. \n",
    "    if (loop):\n",
    "        loop_counter += 1\n",
    "\n",
    "    # print(i, route_row[i], route_col[i], out_of_bounds, loop, loop_counter)\n",
    "    # print(map)\n",
    "\n"
   ]
  },
  {
   "cell_type": "code",
   "execution_count": 488,
   "metadata": {},
   "outputs": [
    {
     "data": {
      "text/plain": [
       "1740"
      ]
     },
     "execution_count": 488,
     "metadata": {},
     "output_type": "execute_result"
    }
   ],
   "source": [
    "loop_counter"
   ]
  },
  {
   "cell_type": "code",
   "execution_count": null,
   "metadata": {},
   "outputs": [],
   "source": []
  },
  {
   "cell_type": "code",
   "execution_count": 489,
   "metadata": {},
   "outputs": [
    {
     "name": "stderr",
     "output_type": "stream",
     "text": [
      "current_day is only available in December (EST)\n"
     ]
    },
    {
     "name": "stdout",
     "output_type": "stream",
     "text": [
      "\u001b[32mThat's the right answer!  You are one gold star closer to finding the Chief Historian.You have completed Day 6! You can [Shareon\n",
      "  Bluesky\n",
      "Twitter\n",
      "Mastodon] this victory or [Return to Your Advent Calendar].\u001b[0m\n"
     ]
    }
   ],
   "source": [
    "response = aocd.submit(loop_counter, part=2, day=day, year=year, session=session_id, reopen=False)\n",
    "# 1712 is too low.\n",
    "# 2320 is too high."
   ]
  }
 ],
 "metadata": {
  "kernelspec": {
   "display_name": "base",
   "language": "python",
   "name": "python3"
  },
  "language_info": {
   "codemirror_mode": {
    "name": "ipython",
    "version": 3
   },
   "file_extension": ".py",
   "mimetype": "text/x-python",
   "name": "python",
   "nbconvert_exporter": "python",
   "pygments_lexer": "ipython3",
   "version": "3.10.9"
  }
 },
 "nbformat": 4,
 "nbformat_minor": 2
}
