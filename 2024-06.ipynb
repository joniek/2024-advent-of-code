{
 "cells": [
  {
   "cell_type": "markdown",
   "metadata": {},
   "source": [
    "# 2024-06"
   ]
  },
  {
   "cell_type": "code",
   "execution_count": 12,
   "metadata": {},
   "outputs": [],
   "source": [
    "import aocd, setup, utilities as ut\n",
    "\n",
    "# Get Puzzle on this Year and Day.\n",
    "year = 2024\n",
    "day = 6\n",
    "session_id = setup.get_sessionid()  # current session id\n",
    "\n",
    "puzzle = aocd.get_puzzle(session_id, year=year, day=day)            # get puzzle info\n",
    "data = aocd.get_data(session_id, year=year, day=day).splitlines()   # get input data\n"
   ]
  },
  {
   "cell_type": "code",
   "execution_count": 15,
   "metadata": {},
   "outputs": [
    {
     "name": "stdout",
     "output_type": "stream",
     "text": [
      "Input length: 130\n",
      "Input sample:\n",
      "..........#.............................#...............#...........#....................#...........#............................\n",
      "..............................#.......#...#.....#.....#...............#.#..#.......................#............#.................\n",
      ".............#...........#.#........#............#..........................#.........#.......#......#............................\n",
      "......................................................#....#..#.............#................................#...#............##..\n",
      "...............#.....#....................................#......................................................#................\n",
      "..................##............#......#...............................................................#...................#......\n",
      ".#......#...........................................................#............................#................................\n",
      "\n",
      "Input example:\n",
      "....#.....\n",
      ".........#\n",
      "..........\n",
      "..#.......\n",
      ".......#..\n",
      "..........\n",
      ".#..^.....\n",
      "........#.\n",
      "#.........\n",
      "......#...\n",
      "answer a: 41\n",
      "answer b: None\n",
      "extra: None\n"
     ]
    }
   ],
   "source": [
    "# Review the data and examples.\n",
    "print(\"Input length:\", len(data))\n",
    "print(\"Input sample:\")\n",
    "\n",
    "for i in range(7):\n",
    "    print(data[i])\n",
    "\n",
    "eg_data = puzzle.examples[0].input_data\n",
    "print(\"\\nInput example:\")\n",
    "print(eg_data)\n",
    "\n",
    "eg_answer_a = puzzle.examples[0].answer_a\n",
    "print(\"answer a:\", eg_answer_a)\n",
    "eg_answer_b = puzzle.examples[0].answer_b\n",
    "print(\"answer b:\", eg_answer_b)\n",
    "eg_extra = puzzle.examples[0].extra\n",
    "print(\"extra:\", eg_extra)\n"
   ]
  },
  {
   "cell_type": "markdown",
   "metadata": {},
   "source": [
    "# Part 1"
   ]
  },
  {
   "cell_type": "code",
   "execution_count": 384,
   "metadata": {},
   "outputs": [
    {
     "name": "stdout",
     "output_type": "stream",
     "text": [
      "[['.' '.' '.' ... '.' '.' '.']\n",
      " ['.' '.' '.' ... '.' '.' '.']\n",
      " ['.' '.' '.' ... '.' '.' '.']\n",
      " ...\n",
      " ['.' '.' '.' ... '.' '.' '#']\n",
      " ['.' '.' '#' ... '.' '.' '.']\n",
      " ['.' '.' '.' ... '.' '#' '.']]\n",
      "71 48\n",
      "130 130\n"
     ]
    }
   ],
   "source": [
    "import numpy as np\n",
    "\n",
    "# Prepare map array.\n",
    "# map = ut.make_array(eg_data)\n",
    "map = ut.make_array(data)\n",
    "map = np.asarray(map)\n",
    "print(map)\n",
    "\n",
    "# Identify starting row and col. \n",
    "r_curr, c_curr = np.where(map == '^')\n",
    "r_curr, c_curr = r_curr[0], c_curr[0]\n",
    "print(r_curr, c_curr)\n",
    "# curr_loc = [r[0],c[0]]\n",
    "# print(curr_loc)\n",
    "\n",
    "# Identify max limits of the map.\n",
    "r_max, c_max = list(map.shape)\n",
    "print(r_max, c_max)"
   ]
  },
  {
   "cell_type": "code",
   "execution_count": 385,
   "metadata": {},
   "outputs": [],
   "source": [
    "# Check if current location is out of bounds.\n",
    "def is_out_of_bounds(row, col):\n",
    "    return ((row < 0) | (col < 0) | (row > r_max - 1) |  (col > c_max - 1))\n",
    "\n",
    "# Check if location is an obstacle. \n",
    "def is_obstacle(row, col, map):\n",
    "    return map[row][col] == '#'\n",
    "    \n",
    "# Updates map    \n",
    "def update_map(row, col, map):\n",
    "    map[row][col] = 'x'\n",
    "    return map\n",
    "\n",
    "\n",
    "# Check the next move.\n",
    "def next_move(row, col, map):\n",
    "    # Returns is_out_of_bounds, is_obstacle, map.\n",
    "\n",
    "    # Check if out of bounds. \n",
    "    if (is_out_of_bounds(row, col)):\n",
    "        return True, False\n",
    "\n",
    "    # Check if obstacle. \n",
    "    if (is_obstacle(row, col, map)):\n",
    "        return False, True\n",
    "\n",
    "    # Move\n",
    "    return False, False\n"
   ]
  },
  {
   "cell_type": "code",
   "execution_count": 386,
   "metadata": {},
   "outputs": [],
   "source": [
    "def go_north(row, col, map):\n",
    "\n",
    "    out_of_bounds = False\n",
    "    obstacle = False\n",
    "\n",
    "    while not ((out_of_bounds) | (obstacle)):\n",
    "        row -= 1\n",
    "        map = update_map(row, col, map)\n",
    "        out_of_bounds, obstacle = next_move(row - 1, col, map)\n",
    "    \n",
    "    # print('exit', out_of_bounds, obstacle, row, col)\n",
    "    # print(map)\n",
    "    return out_of_bounds, obstacle, row, col, map\n",
    "\n"
   ]
  },
  {
   "cell_type": "code",
   "execution_count": 387,
   "metadata": {},
   "outputs": [],
   "source": [
    "def go_south(row, col, map):\n",
    "\n",
    "    out_of_bounds = False\n",
    "    obstacle = False\n",
    "\n",
    "    while not ((out_of_bounds) | (obstacle)):\n",
    "        row += 1\n",
    "        map = update_map(row, col, map)\n",
    "        out_of_bounds, obstacle = next_move(row + 1, col, map)\n",
    "    \n",
    "    # print('exit', out_of_bounds, obstacle, row, col)\n",
    "    # print(map)\n",
    "    return out_of_bounds, obstacle, row, col, map\n",
    "\n"
   ]
  },
  {
   "cell_type": "code",
   "execution_count": 388,
   "metadata": {},
   "outputs": [],
   "source": [
    "def go_east(row, col, map):\n",
    "\n",
    "    out_of_bounds = False\n",
    "    obstacle = False\n",
    "\n",
    "    while not ((out_of_bounds) | (obstacle)):\n",
    "        col += 1\n",
    "        map = update_map(row, col, map)\n",
    "        out_of_bounds, obstacle = next_move(row, col + 1, map)\n",
    "    \n",
    "    # print('exit', out_of_bounds, obstacle, row, col)\n",
    "    # print(map)\n",
    "    return out_of_bounds, obstacle, row, col, map\n",
    "\n"
   ]
  },
  {
   "cell_type": "code",
   "execution_count": 389,
   "metadata": {},
   "outputs": [],
   "source": [
    "def go_west(row, col, map):\n",
    "\n",
    "    out_of_bounds = False\n",
    "    obstacle = False\n",
    "\n",
    "    while not ((out_of_bounds) | (obstacle)):\n",
    "        col -= 1\n",
    "        map = update_map(row, col, map)\n",
    "        out_of_bounds, obstacle = next_move(row, col - 1, map)\n",
    "    \n",
    "    # print('exit', out_of_bounds, obstacle, row, col)\n",
    "    # print(map)\n",
    "    return out_of_bounds, obstacle, row, col, map\n",
    "\n"
   ]
  },
  {
   "cell_type": "code",
   "execution_count": 390,
   "metadata": {},
   "outputs": [
    {
     "name": "stdout",
     "output_type": "stream",
     "text": [
      "True False 129 125\n",
      "[['.' '.' '.' ... '.' '.' '.']\n",
      " ['.' '.' '.' ... '.' '.' '.']\n",
      " ['.' '.' '.' ... '.' '.' '.']\n",
      " ...\n",
      " ['.' '.' '.' ... '.' '.' '#']\n",
      " ['.' '.' '#' ... '.' '.' '.']\n",
      " ['.' '.' '.' ... '.' '#' '.']]\n"
     ]
    }
   ],
   "source": [
    "\n",
    "out_of_bounds = False\n",
    "obstacle = False\n",
    "\n",
    "map = update_map(r_curr, c_curr, map)\n",
    "# print(map)\n",
    "\n",
    "while (out_of_bounds == False):\n",
    "\n",
    "    out_of_bounds, obstacle, r_curr, c_curr, map = go_north(r_curr, c_curr, map)\n",
    "    # print(out_of_bounds, obstacle, r_curr, c_curr)\n",
    "    # print(map)\n",
    "    if (out_of_bounds):\n",
    "        break\n",
    "\n",
    "    out_of_bounds, obstacle, r_curr, c_curr, map = go_east(r_curr, c_curr, map)\n",
    "    # print(out_of_bounds, obstacle, r_curr, c_curr)\n",
    "    # print(map)\n",
    "    if (out_of_bounds):\n",
    "        break\n",
    "    \n",
    "    out_of_bounds, obstacle, r_curr, c_curr, map = go_south(r_curr, c_curr, map)\n",
    "    # print(out_of_bounds, obstacle, r_curr, c_curr)\n",
    "    # print(map)\n",
    "    if (out_of_bounds):\n",
    "        break\n",
    "\n",
    "    out_of_bounds, obstacle, r_curr, c_curr, map = go_west(r_curr, c_curr, map)\n",
    "    # print(out_of_bounds, obstacle, r_curr, c_curr)\n",
    "    # print(map)\n",
    "    if (out_of_bounds):\n",
    "        break\n",
    "\n",
    "print(out_of_bounds, obstacle, r_curr, c_curr)\n",
    "print(map)\n",
    "\n"
   ]
  },
  {
   "cell_type": "code",
   "execution_count": 394,
   "metadata": {},
   "outputs": [
    {
     "data": {
      "text/plain": [
       "4964"
      ]
     },
     "execution_count": 394,
     "metadata": {},
     "output_type": "execute_result"
    }
   ],
   "source": [
    "answer_a = len(np.where(map == 'x')[0])\n",
    "answer_a"
   ]
  },
  {
   "cell_type": "code",
   "execution_count": 395,
   "metadata": {},
   "outputs": [
    {
     "name": "stderr",
     "output_type": "stream",
     "text": [
      "current_day is only available in December (EST)\n"
     ]
    },
    {
     "name": "stdout",
     "output_type": "stream",
     "text": [
      "\u001b[32mThat's the right answer!  You are one gold star closer to finding the Chief Historian. [Continue to Part Two]\u001b[0m\n"
     ]
    }
   ],
   "source": [
    "response = aocd.submit(answer_a, part=1, day=day, year=year, session=session_id, reopen=False)"
   ]
  },
  {
   "cell_type": "markdown",
   "metadata": {},
   "source": [
    "# Part 2"
   ]
  },
  {
   "cell_type": "code",
   "execution_count": null,
   "metadata": {},
   "outputs": [],
   "source": []
  },
  {
   "cell_type": "code",
   "execution_count": 393,
   "metadata": {},
   "outputs": [],
   "source": [
    "# response = aocd.submit(answer_b, part=2, day=day, year=year, session=session_id, reopen=False)"
   ]
  }
 ],
 "metadata": {
  "kernelspec": {
   "display_name": "base",
   "language": "python",
   "name": "python3"
  },
  "language_info": {
   "codemirror_mode": {
    "name": "ipython",
    "version": 3
   },
   "file_extension": ".py",
   "mimetype": "text/x-python",
   "name": "python",
   "nbconvert_exporter": "python",
   "pygments_lexer": "ipython3",
   "version": "3.10.9"
  }
 },
 "nbformat": 4,
 "nbformat_minor": 2
}
