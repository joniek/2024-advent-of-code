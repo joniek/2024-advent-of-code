{
 "cells": [
  {
   "cell_type": "markdown",
   "metadata": {},
   "source": [
    "# 2024-10"
   ]
  },
  {
   "cell_type": "code",
   "execution_count": 1,
   "metadata": {},
   "outputs": [],
   "source": [
    "import aocd, setup\n",
    "\n",
    "# Get Puzzle on this Year and Day.\n",
    "year = 2024\n",
    "day = 10\n",
    "session_id = setup.get_sessionid()  # current session id\n",
    "\n",
    "puzzle = aocd.get_puzzle(session_id, year=year, day=day)            # get puzzle info\n",
    "data = aocd.get_data(session_id, year=year, day=day).splitlines()   # get input data\n"
   ]
  },
  {
   "cell_type": "code",
   "execution_count": 2,
   "metadata": {},
   "outputs": [
    {
     "name": "stdout",
     "output_type": "stream",
     "text": [
      "Input length: 45\n",
      "Input sample:\n",
      "012589824304345454345653403898787654310365890\n",
      "323456712215216783238732312345693201223456781\n",
      "450144603304306690129641002105892100378901672\n",
      "343223454456987601234553213456743898465432543\n",
      "234019765567898501246764789122156784567643456\n",
      "105678876678983454334895601033021093298932167\n",
      "987619989569332569543210592344534580112341098\n",
      "\n",
      "Input example:\n",
      "89010123\n",
      "78121874\n",
      "87430965\n",
      "96549874\n",
      "45678903\n",
      "32019012\n",
      "01329801\n",
      "10456732\n",
      "answer a: 36\n",
      "answer b: None\n",
      "extra: None\n"
     ]
    }
   ],
   "source": [
    "# Review the data and examples.\n",
    "print(\"Input length:\", len(data))\n",
    "print(\"Input sample:\")\n",
    "\n",
    "for i in range(7):\n",
    "    print(data[i])\n",
    "\n",
    "eg_data = puzzle.examples[0].input_data\n",
    "print(\"\\nInput example:\")\n",
    "print(eg_data)\n",
    "\n",
    "eg_answer_a = puzzle.examples[0].answer_a\n",
    "print(\"answer a:\", eg_answer_a)\n",
    "eg_answer_b = puzzle.examples[0].answer_b\n",
    "print(\"answer b:\", eg_answer_b)\n",
    "eg_extra = puzzle.examples[0].extra\n",
    "print(\"extra:\", eg_extra)\n"
   ]
  },
  {
   "cell_type": "markdown",
   "metadata": {},
   "source": [
    "# Part 1"
   ]
  },
  {
   "cell_type": "code",
   "execution_count": 27,
   "metadata": {},
   "outputs": [],
   "source": [
    "import numpy as np"
   ]
  },
  {
   "cell_type": "code",
   "execution_count": 267,
   "metadata": {},
   "outputs": [
    {
     "data": {
      "text/plain": [
       "(45, 45)"
      ]
     },
     "execution_count": 267,
     "metadata": {},
     "output_type": "execute_result"
    }
   ],
   "source": [
    "# Process INPUT data.\n",
    "input = []\n",
    "for i in range(len(data)):          # Individualise each digit. \n",
    "    input.append(list(data[i]))\n",
    "\n",
    "map = np.array(input)             # Convert to np.array.\n",
    "map = map.astype(np.int32)      # Convert to int32.\n",
    "map.shape"
   ]
  },
  {
   "cell_type": "code",
   "execution_count": 29,
   "metadata": {},
   "outputs": [
    {
     "data": {
      "text/plain": [
       "array([[8, 9, 0, 1, 0, 1, 2, 3],\n",
       "       [7, 8, 1, 2, 1, 8, 7, 4],\n",
       "       [8, 7, 4, 3, 0, 9, 6, 5],\n",
       "       [9, 6, 5, 4, 9, 8, 7, 4],\n",
       "       [4, 5, 6, 7, 8, 9, 0, 3],\n",
       "       [3, 2, 0, 1, 9, 0, 1, 2],\n",
       "       [0, 1, 3, 2, 9, 8, 0, 1],\n",
       "       [1, 0, 4, 5, 6, 7, 3, 2]], dtype=int32)"
      ]
     },
     "execution_count": 29,
     "metadata": {},
     "output_type": "execute_result"
    }
   ],
   "source": [
    "# Process SAMPLE DATA.\n",
    "input = eg_data.splitlines()\n",
    "for i in range(len(input)):\n",
    "    input[i] = list(input[i])\n",
    "\n",
    "map = np.array(input)         # Change to np.array.\n",
    "map = map.astype(np.int32)  # Change type to int32.\n",
    "map"
   ]
  },
  {
   "cell_type": "code",
   "execution_count": 222,
   "metadata": {},
   "outputs": [],
   "source": [
    "# Find starting indices in a map.\n",
    "def get_starting_indices(map):\n",
    "    start_idx = np.where(map == 0)                                     # get grid indices for peak = 0.\n",
    "    start_idx = np.reshape(np.ravel(start_idx, order='F'), (-1,2))     # ravel and reshape the coordinates to get [[x, y]].\n",
    "    return start_idx\n"
   ]
  },
  {
   "cell_type": "code",
   "execution_count": 259,
   "metadata": {},
   "outputs": [],
   "source": [
    "# Climb the map recursively. Return the coordinates of the peak = 9. \n",
    "def climb(map, this_row, this_col, peaks):\n",
    "\n",
    "    # print(map[this_row][this_col], '\\t[', this_row, ', ', this_col, ']\\t', len(peaks), '\\t', peaks)\n",
    "\n",
    "    if (map[this_row, this_col] == 9):                  # If reached the peak, termininate recursion. \n",
    "        return np.array([this_row, this_col])\n",
    "        \n",
    "    directions = [[-1, 0], [0, 1], [1, 0], [0, -1]]     # NESW order of direction.\n",
    "\n",
    "    for r, c in directions:\n",
    "\n",
    "        if ((this_row + r >= 0) & (this_row + r < len(map))        # Check for map boundaries - row.\n",
    "            & (this_col + c >= 0) & (this_col + c < len(map[0]))):     # check for map boundaries - col.\n",
    "\n",
    "            # Condition needed to be separated or it will hit an index out of bounds error.\n",
    "            if (map[this_row][this_col] +1 == map[this_row + r][this_col + c]):     # Check that height is 1 greater than this location.\n",
    "\n",
    "                result = climb(map, this_row + r, this_col + c, peaks)      # Get coordinates of '9': recursive results.\n",
    "                peaks = np.append(peaks, result)                            # Add coordinates to 'peaks' array.\n",
    "                peaks = np.unique(np.reshape(peaks, (-1, 2)), axis = 0)     # Continually reshape and only keep unique peaks.\n",
    "\n",
    "    return peaks\n",
    "            \n"
   ]
  },
  {
   "cell_type": "code",
   "execution_count": 233,
   "metadata": {},
   "outputs": [
    {
     "data": {
      "text/plain": [
       "array([[0, 2],\n",
       "       [0, 4],\n",
       "       [2, 4],\n",
       "       [4, 6],\n",
       "       [5, 2],\n",
       "       [5, 5],\n",
       "       [6, 0],\n",
       "       [6, 6],\n",
       "       [7, 1]])"
      ]
     },
     "execution_count": 233,
     "metadata": {},
     "output_type": "execute_result"
    }
   ],
   "source": [
    "get_starting_indices(map)"
   ]
  },
  {
   "cell_type": "code",
   "execution_count": 270,
   "metadata": {},
   "outputs": [
    {
     "name": "stdout",
     "output_type": "stream",
     "text": [
      "538\n"
     ]
    }
   ],
   "source": [
    "# Find the sum of the scores of all trailheads.\n",
    "start_idxs = get_starting_indices(map)\n",
    "answer_a = 0\n",
    "\n",
    "for r, c in start_idxs:\n",
    "    p = climb(map, r, c, np.array([]))\n",
    "    answer_a += len(p)\n",
    "\n",
    "print(answer_a)\n"
   ]
  },
  {
   "cell_type": "code",
   "execution_count": 271,
   "metadata": {},
   "outputs": [
    {
     "name": "stderr",
     "output_type": "stream",
     "text": [
      "current_day is only available in December (EST)\n"
     ]
    },
    {
     "name": "stdout",
     "output_type": "stream",
     "text": [
      "\u001b[32mThat's the right answer!  You are one gold star closer to finding the Chief Historian. [Continue to Part Two]\u001b[0m\n"
     ]
    }
   ],
   "source": [
    "response = aocd.submit(answer_a, part=1, day=day, year=year, session=session_id, reopen=False)"
   ]
  },
  {
   "cell_type": "markdown",
   "metadata": {},
   "source": [
    "# Part 2"
   ]
  },
  {
   "cell_type": "code",
   "execution_count": null,
   "metadata": {},
   "outputs": [],
   "source": []
  },
  {
   "cell_type": "code",
   "execution_count": null,
   "metadata": {},
   "outputs": [],
   "source": [
    "# response = aocd.submit(answer_b, part=2, day=day, year=year, session=session_id, reopen=False)"
   ]
  }
 ],
 "metadata": {
  "kernelspec": {
   "display_name": "base",
   "language": "python",
   "name": "python3"
  },
  "language_info": {
   "codemirror_mode": {
    "name": "ipython",
    "version": 3
   },
   "file_extension": ".py",
   "mimetype": "text/x-python",
   "name": "python",
   "nbconvert_exporter": "python",
   "pygments_lexer": "ipython3",
   "version": "3.10.9"
  }
 },
 "nbformat": 4,
 "nbformat_minor": 2
}
