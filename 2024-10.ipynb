{
 "cells": [
  {
   "cell_type": "markdown",
   "metadata": {},
   "source": [
    "# 2024-10"
   ]
  },
  {
   "cell_type": "code",
   "execution_count": 1,
   "metadata": {},
   "outputs": [],
   "source": [
    "import aocd, setup\n",
    "\n",
    "# Get Puzzle on this Year and Day.\n",
    "year = 2024\n",
    "day = 10\n",
    "session_id = setup.get_sessionid()  # current session id\n",
    "\n",
    "puzzle = aocd.get_puzzle(session_id, year=year, day=day)            # get puzzle info\n",
    "data = aocd.get_data(session_id, year=year, day=day).splitlines()   # get input data\n"
   ]
  },
  {
   "cell_type": "code",
   "execution_count": 2,
   "metadata": {},
   "outputs": [
    {
     "name": "stdout",
     "output_type": "stream",
     "text": [
      "Input length: 45\n",
      "Input sample:\n",
      "012589824304345454345653403898787654310365890\n",
      "323456712215216783238732312345693201223456781\n",
      "450144603304306690129641002105892100378901672\n",
      "343223454456987601234553213456743898465432543\n",
      "234019765567898501246764789122156784567643456\n",
      "105678876678983454334895601033021093298932167\n",
      "987619989569332569543210592344534580112341098\n",
      "\n",
      "Input example:\n",
      "89010123\n",
      "78121874\n",
      "87430965\n",
      "96549874\n",
      "45678903\n",
      "32019012\n",
      "01329801\n",
      "10456732\n",
      "answer a: 36\n",
      "answer b: None\n",
      "extra: None\n"
     ]
    }
   ],
   "source": [
    "# Review the data and examples.\n",
    "print(\"Input length:\", len(data))\n",
    "print(\"Input sample:\")\n",
    "\n",
    "for i in range(7):\n",
    "    print(data[i])\n",
    "\n",
    "eg_data = puzzle.examples[0].input_data\n",
    "print(\"\\nInput example:\")\n",
    "print(eg_data)\n",
    "\n",
    "eg_answer_a = puzzle.examples[0].answer_a\n",
    "print(\"answer a:\", eg_answer_a)\n",
    "eg_answer_b = puzzle.examples[0].answer_b\n",
    "print(\"answer b:\", eg_answer_b)\n",
    "eg_extra = puzzle.examples[0].extra\n",
    "print(\"extra:\", eg_extra)\n"
   ]
  },
  {
   "cell_type": "markdown",
   "metadata": {},
   "source": [
    "# Part 1"
   ]
  },
  {
   "cell_type": "code",
   "execution_count": 27,
   "metadata": {},
   "outputs": [],
   "source": [
    "import numpy as np"
   ]
  },
  {
   "cell_type": "code",
   "execution_count": 446,
   "metadata": {},
   "outputs": [
    {
     "data": {
      "text/plain": [
       "(45, 45)"
      ]
     },
     "execution_count": 446,
     "metadata": {},
     "output_type": "execute_result"
    }
   ],
   "source": [
    "# Process INPUT data.\n",
    "input = []\n",
    "for i in range(len(data)):          # Individualise each digit. \n",
    "    input.append(list(data[i]))\n",
    "\n",
    "map = np.array(input)             # Convert to np.array.\n",
    "map = map.astype(np.int32)      # Convert to int32.\n",
    "map.shape"
   ]
  },
  {
   "cell_type": "code",
   "execution_count": 272,
   "metadata": {},
   "outputs": [
    {
     "data": {
      "text/plain": [
       "array([[8, 9, 0, 1, 0, 1, 2, 3],\n",
       "       [7, 8, 1, 2, 1, 8, 7, 4],\n",
       "       [8, 7, 4, 3, 0, 9, 6, 5],\n",
       "       [9, 6, 5, 4, 9, 8, 7, 4],\n",
       "       [4, 5, 6, 7, 8, 9, 0, 3],\n",
       "       [3, 2, 0, 1, 9, 0, 1, 2],\n",
       "       [0, 1, 3, 2, 9, 8, 0, 1],\n",
       "       [1, 0, 4, 5, 6, 7, 3, 2]], dtype=int32)"
      ]
     },
     "execution_count": 272,
     "metadata": {},
     "output_type": "execute_result"
    }
   ],
   "source": [
    "# Process SAMPLE DATA.\n",
    "input = eg_data.splitlines()\n",
    "for i in range(len(input)):\n",
    "    input[i] = list(input[i])\n",
    "\n",
    "map = np.array(input)         # Change to np.array.\n",
    "map = map.astype(np.int32)  # Change type to int32.\n",
    "map"
   ]
  },
  {
   "cell_type": "code",
   "execution_count": 222,
   "metadata": {},
   "outputs": [],
   "source": [
    "# Find starting indices in a map.\n",
    "def get_starting_indices(map):\n",
    "    start_idx = np.where(map == 0)                                     # get grid indices for peak = 0.\n",
    "    start_idx = np.reshape(np.ravel(start_idx, order='F'), (-1,2))     # ravel and reshape the coordinates to get [[x, y]].\n",
    "    return start_idx\n"
   ]
  },
  {
   "cell_type": "code",
   "execution_count": 259,
   "metadata": {},
   "outputs": [],
   "source": [
    "# Climb the map recursively. Return the coordinates of the peak = 9. \n",
    "def climb(map, this_row, this_col, peaks):\n",
    "\n",
    "    # print(map[this_row][this_col], '\\t[', this_row, ', ', this_col, ']\\t', len(peaks), '\\t', peaks)\n",
    "\n",
    "    if (map[this_row, this_col] == 9):                  # If reached the peak, termininate recursion. \n",
    "        return np.array([this_row, this_col])\n",
    "        \n",
    "    directions = [[-1, 0], [0, 1], [1, 0], [0, -1]]     # NESW order of direction.\n",
    "\n",
    "    for r, c in directions:\n",
    "\n",
    "        if ((this_row + r >= 0) & (this_row + r < len(map))        # Check for map boundaries - row.\n",
    "            & (this_col + c >= 0) & (this_col + c < len(map[0]))):     # check for map boundaries - col.\n",
    "\n",
    "            # Condition needed to be separated or it will hit an index out of bounds error.\n",
    "            if (map[this_row][this_col] +1 == map[this_row + r][this_col + c]):     # Check that height is 1 greater than this location.\n",
    "\n",
    "                result = climb(map, this_row + r, this_col + c, peaks)      # Get coordinates of '9': recursive results.\n",
    "                peaks = np.append(peaks, result)                            # Add coordinates to 'peaks' array.\n",
    "                peaks = np.unique(np.reshape(peaks, (-1, 2)), axis = 0)     # Continually reshape and only keep unique peaks.\n",
    "\n",
    "    return peaks\n",
    "            \n"
   ]
  },
  {
   "cell_type": "code",
   "execution_count": 233,
   "metadata": {},
   "outputs": [
    {
     "data": {
      "text/plain": [
       "array([[0, 2],\n",
       "       [0, 4],\n",
       "       [2, 4],\n",
       "       [4, 6],\n",
       "       [5, 2],\n",
       "       [5, 5],\n",
       "       [6, 0],\n",
       "       [6, 6],\n",
       "       [7, 1]])"
      ]
     },
     "execution_count": 233,
     "metadata": {},
     "output_type": "execute_result"
    }
   ],
   "source": [
    "get_starting_indices(map)"
   ]
  },
  {
   "cell_type": "code",
   "execution_count": 270,
   "metadata": {},
   "outputs": [
    {
     "name": "stdout",
     "output_type": "stream",
     "text": [
      "538\n"
     ]
    }
   ],
   "source": [
    "# Find the sum of the scores of all trailheads.\n",
    "start_idxs = get_starting_indices(map)\n",
    "answer_a = 0\n",
    "\n",
    "for r, c in start_idxs:\n",
    "    p = climb(map, r, c, np.array([]))\n",
    "    answer_a += len(p)\n",
    "\n",
    "print(answer_a)\n"
   ]
  },
  {
   "cell_type": "code",
   "execution_count": null,
   "metadata": {},
   "outputs": [
    {
     "name": "stderr",
     "output_type": "stream",
     "text": [
      "current_day is only available in December (EST)\n"
     ]
    },
    {
     "name": "stdout",
     "output_type": "stream",
     "text": [
      "\u001b[32mThat's the right answer!  You are one gold star closer to finding the Chief Historian. [Continue to Part Two]\u001b[0m\n"
     ]
    }
   ],
   "source": [
    "# response = aocd.submit(answer_a, part=1, day=day, year=year, session=session_id, reopen=False)"
   ]
  },
  {
   "cell_type": "markdown",
   "metadata": {},
   "source": [
    "# Part 2"
   ]
  },
  {
   "cell_type": "code",
   "execution_count": 447,
   "metadata": {},
   "outputs": [],
   "source": [
    "# Climb the map recursively. Return the coordinates of the peak = 9. \n",
    "def get_trails(map, this_row, this_col):\n",
    "\n",
    "    # print('DIR: [', this_row, ',', this_col, ']\\ttop:', map[this_row][this_col])\n",
    "\n",
    "    if (map[this_row, this_col] == 9):                  # If reached the peak, termininate recursion. \n",
    "        return [[this_row, this_col]]\n",
    "        \n",
    "    directions = [[-1, 0], [0, 1], [1, 0], [0, -1]]     # NESW order of direction.\n",
    "    trails = []\n",
    "\n",
    "    # Travel in all 4 directions.\n",
    "    for r, c in directions:\n",
    "\n",
    "        if ((this_row + r >= 0) & (this_row + r < len(map))        # Check for map boundaries - row.\n",
    "            & (this_col + c >= 0) & (this_col + c < len(map[0]))):     # check for map boundaries - col.\n",
    "\n",
    "            # Condition needed to be separated or it will hit an index out of bounds error.\n",
    "            if (map[this_row][this_col] +1 == map[this_row + r][this_col + c]):     # Check that height is 1 greater than this location.\n",
    "\n",
    "                returned_trails = get_trails(map, this_row + r, this_col + c)       # Get recursive result. \n",
    "\n",
    "                if ((returned_trails != []) & (map[this_row][this_col] == 8)):      # If it is level 8, then append to trails array.\n",
    "                    returned_trails.append([this_row, this_col])\n",
    "                    trails.append(returned_trails)\n",
    "                elif ((returned_trails != [])):                                     # If it is level 7 or lower, then append each row to trails array.\n",
    "                    for i in range(len(returned_trails)):\n",
    "                        returned_trails[i].append([this_row, this_col])\n",
    "                        trails.append(returned_trails[i])\n",
    "\n",
    "                # print('\\tBACK: [', this_row, ',', this_col ,']\\tlen:', len(returned_trails),'\\ttop:', map[this_row][this_col],'\\t', returned_trails)\n",
    "                    \n",
    "    # print('\\t\\tBACK2: [', this_row, ',', this_col ,']\\tlen:', len(trails),'\\ttop:', map[this_row][this_col],'\\t', trails, '\\n')\n",
    "    return trails\n",
    "            \n"
   ]
  },
  {
   "cell_type": "code",
   "execution_count": 448,
   "metadata": {},
   "outputs": [
    {
     "name": "stdout",
     "output_type": "stream",
     "text": [
      "0 0 2 2\n",
      "0 10 21 23\n",
      "0 25 2 25\n",
      "0 38 2 27\n",
      "0 44 5 32\n",
      "1 34 3 35\n",
      "2 2 2 37\n",
      "2 7 11 48\n",
      "2 10 21 69\n",
      "2 13 1 70\n",
      "2 17 6 76\n",
      "2 24 1 77\n",
      "2 25 3 80\n",
      "2 28 1 81\n",
      "2 34 3 84\n",
      "2 35 3 87\n",
      "2 40 6 93\n",
      "3 16 1 94\n",
      "4 3 4 98\n",
      "4 16 1 99\n",
      "5 1 2 101\n",
      "5 25 4 105\n",
      "5 27 8 113\n",
      "5 30 2 115\n",
      "5 33 3 118\n",
      "6 23 8 126\n",
      "6 35 2 128\n",
      "6 42 12 140\n",
      "7 4 11 151\n",
      "7 11 4 155\n",
      "7 15 5 160\n",
      "7 37 3 163\n",
      "8 1 6 169\n",
      "8 5 18 187\n",
      "8 13 2 189\n",
      "8 15 10 199\n",
      "8 17 5 204\n",
      "8 19 10 214\n",
      "8 33 3 217\n",
      "9 14 5 222\n",
      "9 20 10 232\n",
      "9 39 2 234\n",
      "10 1 22 256\n",
      "10 19 3 259\n",
      "10 27 4 263\n",
      "10 33 3 266\n",
      "10 41 7 273\n",
      "10 42 1 274\n",
      "11 10 4 278\n",
      "11 11 2 280\n",
      "11 36 14 294\n",
      "12 2 1 295\n",
      "12 7 4 299\n",
      "12 12 4 303\n",
      "12 22 3 306\n",
      "12 26 4 310\n",
      "12 30 2 312\n",
      "13 4 5 317\n",
      "13 8 4 321\n",
      "13 13 2 323\n",
      "13 18 3 326\n",
      "13 28 1 327\n",
      "13 44 4 331\n",
      "14 16 2 333\n",
      "14 22 5 338\n",
      "14 33 6 344\n",
      "14 41 4 348\n",
      "15 3 1 349\n",
      "15 28 4 353\n",
      "15 39 2 355\n",
      "15 44 4 359\n",
      "16 5 7 366\n",
      "16 7 12 378\n",
      "16 19 2 380\n",
      "16 21 3 383\n",
      "16 22 4 387\n",
      "17 10 5 392\n",
      "17 11 1 393\n",
      "17 27 3 396\n",
      "17 32 8 404\n",
      "17 34 8 412\n",
      "17 36 6 418\n",
      "18 1 19 437\n",
      "18 15 8 445\n",
      "18 27 1 446\n",
      "18 38 1 447\n",
      "18 39 1 448\n",
      "18 42 4 452\n",
      "19 2 2 454\n",
      "19 18 8 462\n",
      "19 30 3 465\n",
      "19 31 2 467\n",
      "20 1 2 469\n",
      "20 22 2 471\n",
      "20 29 3 474\n",
      "21 7 3 477\n",
      "21 12 2 479\n",
      "21 23 2 481\n",
      "21 33 2 483\n",
      "21 37 1 484\n",
      "21 40 7 491\n",
      "21 43 1 492\n",
      "22 4 1 493\n",
      "22 7 7 500\n",
      "22 12 4 504\n",
      "22 36 1 505\n",
      "23 2 7 512\n",
      "23 25 1 513\n",
      "23 40 7 520\n",
      "24 3 7 527\n",
      "24 11 14 541\n",
      "24 20 8 549\n",
      "24 26 1 550\n",
      "24 27 3 553\n",
      "24 37 7 560\n",
      "25 8 14 574\n",
      "25 17 12 586\n",
      "25 19 18 604\n",
      "25 23 4 608\n",
      "25 34 5 613\n",
      "25 44 1 614\n",
      "26 0 10 624\n",
      "26 8 1 625\n",
      "26 15 2 627\n",
      "26 16 2 629\n",
      "26 26 4 633\n",
      "26 33 3 636\n",
      "26 38 2 638\n",
      "26 39 8 646\n",
      "27 3 2 648\n",
      "27 17 2 650\n",
      "27 25 4 654\n",
      "27 26 4 658\n",
      "27 30 15 673\n",
      "27 37 2 675\n",
      "28 0 10 685\n",
      "28 15 1 686\n",
      "28 25 4 690\n",
      "28 29 6 696\n",
      "28 41 12 708\n",
      "28 43 1 709\n",
      "29 8 4 713\n",
      "29 22 2 715\n",
      "29 36 1 716\n",
      "29 37 2 718\n",
      "30 5 4 722\n",
      "30 11 5 727\n",
      "30 15 8 735\n",
      "30 25 4 739\n",
      "31 16 7 746\n",
      "31 20 6 752\n",
      "31 22 12 764\n",
      "31 42 14 778\n",
      "31 44 9 787\n",
      "32 9 9 796\n",
      "33 3 4 800\n",
      "33 31 8 808\n",
      "34 3 1 809\n",
      "34 10 3 812\n",
      "34 12 1 813\n",
      "34 18 1 814\n",
      "34 21 5 819\n",
      "34 37 2 821\n",
      "34 39 7 828\n",
      "35 26 4 832\n",
      "36 3 11 843\n",
      "36 4 4 847\n",
      "36 10 6 853\n",
      "36 11 14 867\n",
      "36 13 7 874\n",
      "36 19 6 880\n",
      "36 23 5 885\n",
      "36 24 2 887\n",
      "36 29 1 888\n",
      "36 31 6 894\n",
      "36 37 3 897\n",
      "36 41 5 902\n",
      "37 4 16 918\n",
      "37 10 7 925\n",
      "37 20 12 937\n",
      "37 26 4 941\n",
      "37 39 1 942\n",
      "37 40 5 947\n",
      "37 41 2 949\n",
      "38 6 2 951\n",
      "38 30 1 952\n",
      "38 44 6 958\n",
      "39 12 12 970\n",
      "39 14 17 987\n",
      "39 16 10 997\n",
      "40 9 8 1005\n",
      "40 23 3 1008\n",
      "40 33 10 1018\n",
      "40 42 4 1022\n",
      "41 6 6 1028\n",
      "41 15 14 1042\n",
      "41 41 4 1046\n",
      "42 23 4 1050\n",
      "42 24 1 1051\n",
      "42 31 9 1060\n",
      "42 33 6 1066\n",
      "42 44 2 1068\n",
      "43 9 1 1069\n",
      "43 24 4 1073\n",
      "43 30 3 1076\n",
      "43 37 3 1079\n",
      "43 38 2 1081\n",
      "44 2 3 1084\n",
      "44 11 9 1093\n",
      "44 13 3 1096\n",
      "44 16 4 1100\n",
      "44 18 4 1104\n",
      "44 34 3 1107\n",
      "44 38 3 1110\n"
     ]
    }
   ],
   "source": [
    "# Calculate the total sum rating. \n",
    "start_idx = get_starting_indices(map)\n",
    "start_idx\n",
    "\n",
    "sum_rating = 0\n",
    "\n",
    "for r,c in start_idx:\n",
    "    trails = get_trails(map, r, c)\n",
    "    sum_rating += len(trails)\n",
    "\n",
    "    print(r,c,len(trails), sum_rating)\n"
   ]
  },
  {
   "cell_type": "code",
   "execution_count": 449,
   "metadata": {},
   "outputs": [
    {
     "data": {
      "text/plain": [
       "1110"
      ]
     },
     "execution_count": 449,
     "metadata": {},
     "output_type": "execute_result"
    }
   ],
   "source": [
    "sum_rating"
   ]
  },
  {
   "cell_type": "code",
   "execution_count": 450,
   "metadata": {},
   "outputs": [
    {
     "name": "stderr",
     "output_type": "stream",
     "text": [
      "current_day is only available in December (EST)\n"
     ]
    },
    {
     "name": "stdout",
     "output_type": "stream",
     "text": [
      "\u001b[32mThat's the right answer!  You are one gold star closer to finding the Chief Historian.You have completed Day 10! You can [Shareon\n",
      "  Bluesky\n",
      "Twitter\n",
      "Mastodon] this victory or [Return to Your Advent Calendar].\u001b[0m\n"
     ]
    }
   ],
   "source": [
    "response = aocd.submit(sum_rating, part=2, day=day, year=year, session=session_id, reopen=False)"
   ]
  }
 ],
 "metadata": {
  "kernelspec": {
   "display_name": "base",
   "language": "python",
   "name": "python3"
  },
  "language_info": {
   "codemirror_mode": {
    "name": "ipython",
    "version": 3
   },
   "file_extension": ".py",
   "mimetype": "text/x-python",
   "name": "python",
   "nbconvert_exporter": "python",
   "pygments_lexer": "ipython3",
   "version": "3.10.9"
  }
 },
 "nbformat": 4,
 "nbformat_minor": 2
}
