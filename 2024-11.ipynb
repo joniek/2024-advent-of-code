{
 "cells": [
  {
   "cell_type": "markdown",
   "metadata": {},
   "source": [
    "# 2024-11\n",
    "[Day 11](https://adventofcode.com/2024/day/11)"
   ]
  },
  {
   "cell_type": "code",
   "execution_count": 1,
   "metadata": {},
   "outputs": [],
   "source": [
    "import aocd, setup\n",
    "\n",
    "# Get Puzzle on this Year and Day.\n",
    "year = 2024\n",
    "day = 11\n",
    "session_id = setup.get_sessionid()  # current session id\n",
    "\n",
    "puzzle = aocd.get_puzzle(session_id, year=year, day=day)            # get puzzle info\n",
    "data = aocd.get_data(session_id, year=year, day=day).splitlines()   # get input data\n"
   ]
  },
  {
   "cell_type": "code",
   "execution_count": 7,
   "metadata": {},
   "outputs": [
    {
     "name": "stdout",
     "output_type": "stream",
     "text": [
      "Input length: 1\n",
      "Input: ['4 4841539 66 5279 49207 134 609568 0']\n"
     ]
    }
   ],
   "source": [
    "# Review the data and examples.\n",
    "print(\"Input length:\", len(data))\n",
    "print(\"Input:\", data)\n"
   ]
  },
  {
   "cell_type": "code",
   "execution_count": 5,
   "metadata": {},
   "outputs": [
    {
     "name": "stdout",
     "output_type": "stream",
     "text": [
      "\n",
      "Input example:\n",
      "125 17\n",
      "answer a: 55312\n",
      "answer b: None\n",
      "extra: None\n"
     ]
    }
   ],
   "source": [
    "eg_data = puzzle.examples[0].input_data\n",
    "print(\"\\nInput example:\")\n",
    "print(eg_data)\n",
    "\n",
    "eg_answer_a = puzzle.examples[0].answer_a\n",
    "print(\"answer a:\", eg_answer_a)\n",
    "eg_answer_b = puzzle.examples[0].answer_b\n",
    "print(\"answer b:\", eg_answer_b)\n",
    "eg_extra = puzzle.examples[0].extra\n",
    "print(\"extra:\", eg_extra)\n"
   ]
  },
  {
   "cell_type": "markdown",
   "metadata": {},
   "source": [
    "# Part 1"
   ]
  },
  {
   "cell_type": "markdown",
   "metadata": {},
   "source": [
    "Every time you blink, the stones each simultaneously change according to the first applicable rule in this list:\n",
    "\n",
    "- If the stone is engraved with the number 0, it is replaced by a stone engraved with the number 1.\n",
    "- If the stone is engraved with a number that has an even number of digits, it is replaced by two stones. The left half of the digits are engraved on the new left stone, and the right half of the digits are engraved on the new right stone. (The new numbers don't keep extra leading zeroes: 1000 would become stones 10 and 0.)\n",
    "- If none of the other rules apply, the stone is replaced by a new stone; the old stone's number multiplied by 2024 is engraved on the new stone."
   ]
  },
  {
   "cell_type": "code",
   "execution_count": 150,
   "metadata": {},
   "outputs": [],
   "source": [
    "def rules(input_stone):\n",
    "\n",
    "    input_stone = int(input_stone)\n",
    "    # print(input_stone)\n",
    "\n",
    "    if (int(input_stone == 0)): # is it zero?\n",
    "        # print('\\tRule #1', input_stone)\n",
    "        return [1]\n",
    "\n",
    "    elif (len(str(input_stone)) % 2 == 0):                   # does it have an even number of digits?\n",
    "        temp_str = str(input_stone)\n",
    "        half = int(len(str(input_stone)) // 2)\n",
    "        # print('\\tRule #2', temp_str[:half], temp_str[half:])\n",
    "        return [int(temp_str[:half]), int(temp_str[half:])]\n",
    "\n",
    "    else:\n",
    "        # print('\\tRule #3', int(input_stone) * 2024)\n",
    "        return [input_stone * 2024]\n"
   ]
  },
  {
   "cell_type": "code",
   "execution_count": 120,
   "metadata": {},
   "outputs": [],
   "source": [
    "def blink(input_array):\n",
    "    temp_array = []\n",
    "\n",
    "    for i in input_array:\n",
    "        result = rules(i)\n",
    "        if (len(result) == 1):\n",
    "            temp_array.append(result[0])\n",
    "        else:\n",
    "            for r in result:\n",
    "                temp_array.append(r) \n",
    "    return temp_array\n",
    "\n"
   ]
  },
  {
   "cell_type": "code",
   "execution_count": 153,
   "metadata": {},
   "outputs": [],
   "source": [
    "def blinking(input_array, total_blinks):\n",
    "\n",
    "    stones = input_array\n",
    "\n",
    "    for b in range(total_blinks):\n",
    "        stones = blink(stones)\n",
    "        # print(b, len(stones), stones)\n",
    "\n",
    "    return stones\n",
    "\n"
   ]
  },
  {
   "cell_type": "code",
   "execution_count": 158,
   "metadata": {},
   "outputs": [
    {
     "name": "stdout",
     "output_type": "stream",
     "text": [
      "input: ['4', '4841539', '66', '5279', '49207', '134', '609568', '0']\n",
      "212655\n"
     ]
    }
   ],
   "source": [
    "# input = eg_data.split(' ')\n",
    "input = data[0].split(' ')\n",
    "\n",
    "print('input:',input)\n",
    "answer_a = len(blinking(input,25))\n",
    "print(answer_a)\n"
   ]
  },
  {
   "cell_type": "code",
   "execution_count": 159,
   "metadata": {},
   "outputs": [
    {
     "name": "stderr",
     "output_type": "stream",
     "text": [
      "current_day is only available in December (EST)\n"
     ]
    },
    {
     "name": "stdout",
     "output_type": "stream",
     "text": [
      "\u001b[32mThat's the right answer!  You are one gold star closer to finding the Chief Historian. [Continue to Part Two]\u001b[0m\n"
     ]
    }
   ],
   "source": [
    "response = aocd.submit(answer_a, part=1, day=day, year=year, session=session_id, reopen=False)"
   ]
  },
  {
   "cell_type": "markdown",
   "metadata": {},
   "source": [
    "# Part 2"
   ]
  },
  {
   "cell_type": "code",
   "execution_count": null,
   "metadata": {},
   "outputs": [],
   "source": []
  },
  {
   "cell_type": "code",
   "execution_count": null,
   "metadata": {},
   "outputs": [],
   "source": [
    "# response = aocd.submit(answer_b, part=2, day=day, year=year, session=session_id, reopen=False)"
   ]
  }
 ],
 "metadata": {
  "kernelspec": {
   "display_name": "base",
   "language": "python",
   "name": "python3"
  },
  "language_info": {
   "codemirror_mode": {
    "name": "ipython",
    "version": 3
   },
   "file_extension": ".py",
   "mimetype": "text/x-python",
   "name": "python",
   "nbconvert_exporter": "python",
   "pygments_lexer": "ipython3",
   "version": "3.10.9"
  }
 },
 "nbformat": 4,
 "nbformat_minor": 2
}
