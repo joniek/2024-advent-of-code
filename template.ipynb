{
 "cells": [
  {
   "cell_type": "markdown",
   "metadata": {},
   "source": [
    "# Advent of Code Template\n",
    "**Helpful resources**  \n",
    "[Real Python - Advent of Code: Solving Your Puzzles With Python](https://realpython.com/python-advent-of-code/)  \n",
    "[Advent of Code Python Doc](https://github.com/wimglenn/advent-of-code-data/tree/main)"
   ]
  },
  {
   "cell_type": "code",
   "execution_count": 7,
   "metadata": {},
   "outputs": [],
   "source": [
    "import aocd, setup\n",
    "\n",
    "# Get Puzzle on this Year and Day.\n",
    "year = 2020\n",
    "day = 1\n",
    "session_id = setup.get_sessionid()\n",
    "\n",
    "puzzle = aocd.get_puzzle(session_id, year=year, day=day)\n"
   ]
  },
  {
   "cell_type": "code",
   "execution_count": 8,
   "metadata": {},
   "outputs": [
    {
     "name": "stdout",
     "output_type": "stream",
     "text": [
      "[Example(input_data='1721\\n979\\n366\\n299\\n675\\n1456', answer_a='514579', answer_b='241861950', extra=None)]\n",
      "Example(input_data='1721\\n979\\n366\\n299\\n675\\n1456', answer_a='514579', answer_b='241861950', extra=None)\n",
      "1721\n",
      "979\n",
      "366\n",
      "299\n",
      "675\n",
      "1456\n"
     ]
    }
   ],
   "source": [
    "print(puzzle.examples)\n",
    "print(puzzle.examples[0])\n",
    "print(puzzle.examples[0].input_data)\n"
   ]
  },
  {
   "cell_type": "code",
   "execution_count": 9,
   "metadata": {},
   "outputs": [
    {
     "data": {
      "text/plain": [
       "PosixPath('/Users/joankhoo/.config/aocd/prose/2020_01_prose.0.html')"
      ]
     },
     "execution_count": 9,
     "metadata": {},
     "output_type": "execute_result"
    }
   ],
   "source": [
    "puzzle.prose0_path"
   ]
  },
  {
   "cell_type": "code",
   "execution_count": null,
   "metadata": {},
   "outputs": [],
   "source": []
  },
  {
   "cell_type": "code",
   "execution_count": null,
   "metadata": {},
   "outputs": [],
   "source": []
  },
  {
   "cell_type": "code",
   "execution_count": null,
   "metadata": {},
   "outputs": [],
   "source": []
  },
  {
   "cell_type": "code",
   "execution_count": null,
   "metadata": {},
   "outputs": [],
   "source": []
  }
 ],
 "metadata": {
  "kernelspec": {
   "display_name": "base",
   "language": "python",
   "name": "python3"
  },
  "language_info": {
   "codemirror_mode": {
    "name": "ipython",
    "version": 3
   },
   "file_extension": ".py",
   "mimetype": "text/x-python",
   "name": "python",
   "nbconvert_exporter": "python",
   "pygments_lexer": "ipython3",
   "version": "3.10.9"
  }
 },
 "nbformat": 4,
 "nbformat_minor": 2
}
