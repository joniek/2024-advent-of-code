{
 "cells": [
  {
   "cell_type": "markdown",
   "metadata": {},
   "source": [
    "# Advent of Code Template\n",
    "**Helpful resources**  \n",
    "[Real Python - Advent of Code: Solving Your Puzzles With Python](https://realpython.com/python-advent-of-code/)  \n",
    "[Advent of Code Python Doc](https://github.com/wimglenn/advent-of-code-data/tree/main)"
   ]
  },
  {
   "cell_type": "code",
   "execution_count": 34,
   "metadata": {},
   "outputs": [],
   "source": [
    "import aocd, setup\n",
    "\n",
    "# Get Puzzle on this Year and Day.\n",
    "year = 2020\n",
    "day = 1\n",
    "session_id = setup.get_sessionid()  # current session id\n",
    "\n",
    "puzzle = aocd.get_puzzle(session_id, year=year, day=day)            # get puzzle info\n",
    "data = aocd.get_data(session_id, year=year, day=day).splitlines()   # get input data\n"
   ]
  },
  {
   "cell_type": "code",
   "execution_count": null,
   "metadata": {},
   "outputs": [
    {
     "name": "stdout",
     "output_type": "stream",
     "text": [
      "[Example(input_data='1721\\n979\\n366\\n299\\n675\\n1456', answer_a='514579', answer_b='241861950', extra=None)]\n",
      "Input length: 200\n",
      "Input sample:\n",
      " ['1891', '1975', '1987', '1923', '1928', '1993', '1946']\n"
     ]
    }
   ],
   "source": [
    "# Review the data and examples.\n",
    "print(puzzle.examples)\n",
    "print(\"Input length:\", len(data))\n",
    "print(\"Input sample:\\n\",data[:7])"
   ]
  },
  {
   "cell_type": "code",
   "execution_count": null,
   "metadata": {},
   "outputs": [],
   "source": []
  },
  {
   "cell_type": "code",
   "execution_count": null,
   "metadata": {},
   "outputs": [],
   "source": []
  },
  {
   "cell_type": "code",
   "execution_count": null,
   "metadata": {},
   "outputs": [],
   "source": []
  }
 ],
 "metadata": {
  "kernelspec": {
   "display_name": "base",
   "language": "python",
   "name": "python3"
  },
  "language_info": {
   "codemirror_mode": {
    "name": "ipython",
    "version": 3
   },
   "file_extension": ".py",
   "mimetype": "text/x-python",
   "name": "python",
   "nbconvert_exporter": "python",
   "pygments_lexer": "ipython3",
   "version": "3.10.9"
  }
 },
 "nbformat": 4,
 "nbformat_minor": 2
}
