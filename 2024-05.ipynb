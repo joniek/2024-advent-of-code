{
 "cells": [
  {
   "cell_type": "markdown",
   "metadata": {},
   "source": [
    "# 2024-05"
   ]
  },
  {
   "cell_type": "code",
   "execution_count": 1,
   "metadata": {},
   "outputs": [],
   "source": [
    "import aocd, setup\n",
    "\n",
    "# Get Puzzle on this Year and Day.\n",
    "year = 2024\n",
    "day = 5\n",
    "session_id = setup.get_sessionid()  # current session id\n",
    "\n",
    "puzzle = aocd.get_puzzle(session_id, year=year, day=day)            # get puzzle info\n",
    "data = aocd.get_data(session_id, year=year, day=day).splitlines()   # get input data\n"
   ]
  },
  {
   "cell_type": "code",
   "execution_count": 2,
   "metadata": {},
   "outputs": [
    {
     "name": "stdout",
     "output_type": "stream",
     "text": [
      "Input length: 1382\n",
      "Input sample:\n",
      "65|79\n",
      "71|81\n",
      "71|25\n",
      "95|29\n",
      "95|37\n",
      "95|14\n",
      "48|75\n",
      "\n",
      "Input example:\n",
      "47|53\n",
      "97|13\n",
      "97|61\n",
      "97|47\n",
      "75|29\n",
      "61|13\n",
      "75|53\n",
      "29|13\n",
      "97|29\n",
      "53|29\n",
      "61|53\n",
      "97|53\n",
      "61|29\n",
      "47|13\n",
      "75|47\n",
      "97|75\n",
      "47|61\n",
      "75|61\n",
      "47|29\n",
      "75|13\n",
      "53|13\n",
      "\n",
      "75,47,61,53,29\n",
      "97,61,53,29,13\n",
      "75,29,13\n",
      "75,97,47,61,53\n",
      "61,13,29\n",
      "97,13,75,29,47\n",
      "answer a: 143\n",
      "answer b: None\n",
      "extra: None\n"
     ]
    }
   ],
   "source": [
    "# Review the data and examples.\n",
    "print(\"Input length:\", len(data))\n",
    "print(\"Input sample:\")\n",
    "\n",
    "for i in range(7):\n",
    "    print(data[i])\n",
    "\n",
    "eg_data = puzzle.examples[0].input_data\n",
    "print(\"\\nInput example:\")\n",
    "print(eg_data)\n",
    "\n",
    "eg_answer_a = puzzle.examples[0].answer_a\n",
    "print(\"answer a:\", eg_answer_a)\n",
    "eg_answer_b = puzzle.examples[0].answer_b\n",
    "print(\"answer b:\", eg_answer_b)\n",
    "eg_extra = puzzle.examples[0].extra\n",
    "print(\"extra:\", eg_extra)\n"
   ]
  },
  {
   "cell_type": "markdown",
   "metadata": {},
   "source": [
    "# Part 1"
   ]
  },
  {
   "cell_type": "code",
   "execution_count": null,
   "metadata": {},
   "outputs": [],
   "source": [
    "# Data formatting functions. \n",
    "# Turn rules into an array.\n",
    "def format_rules(rules):\n",
    "    for i in range(len(rules)):\n",
    "        rules[i] = list(map(int,rules[i].split(\"|\")))\n",
    "    return rules\n",
    "\n",
    "# Turn pages into an array.\n",
    "def format_pages(pages):\n",
    "    for i in range(len(pages)):\n",
    "        pages[i] = list(map(int,pages[i].split(\",\")))\n",
    "    return pages\n",
    "\n",
    "# Splits a dataset into Rules and Pages array.\n",
    "def split_input(data):\n",
    "    break_idx = data.index('')\n",
    "    rules = format_rules(data[:break_idx])\n",
    "    pages = format_pages(data[break_idx+1:])\n",
    "\n",
    "    return rules, pages\n"
   ]
  },
  {
   "cell_type": "code",
   "execution_count": null,
   "metadata": {},
   "outputs": [],
   "source": [
    "rules, pages = split_input(eg_data.splitlines())\n",
    "# rules, pages = split_input(data)\n",
    "\n",
    "print(len(rules), len(pages))"
   ]
  },
  {
   "cell_type": "code",
   "execution_count": null,
   "metadata": {},
   "outputs": [],
   "source": []
  },
  {
   "cell_type": "code",
   "execution_count": null,
   "metadata": {},
   "outputs": [],
   "source": [
    "# response = aocd.submit(answer_a, part=1, day=day, year=year, session=session_id)"
   ]
  },
  {
   "cell_type": "markdown",
   "metadata": {},
   "source": [
    "# Part 2"
   ]
  },
  {
   "cell_type": "code",
   "execution_count": null,
   "metadata": {},
   "outputs": [],
   "source": []
  },
  {
   "cell_type": "code",
   "execution_count": null,
   "metadata": {},
   "outputs": [],
   "source": [
    "# response = aocd.submit(answer_b, part=2, day=day, year=year, session=session_id)"
   ]
  }
 ],
 "metadata": {
  "kernelspec": {
   "display_name": "base",
   "language": "python",
   "name": "python3"
  },
  "language_info": {
   "codemirror_mode": {
    "name": "ipython",
    "version": 3
   },
   "file_extension": ".py",
   "mimetype": "text/x-python",
   "name": "python",
   "nbconvert_exporter": "python",
   "pygments_lexer": "ipython3",
   "version": "3.10.9"
  }
 },
 "nbformat": 4,
 "nbformat_minor": 2
}
