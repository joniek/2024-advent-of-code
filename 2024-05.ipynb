{
 "cells": [
  {
   "cell_type": "markdown",
   "metadata": {},
   "source": [
    "# 2024-05"
   ]
  },
  {
   "cell_type": "code",
   "execution_count": 221,
   "metadata": {},
   "outputs": [],
   "source": [
    "import aocd, setup\n",
    "\n",
    "# Get Puzzle on this Year and Day.\n",
    "year = 2024\n",
    "day = 5\n",
    "session_id = setup.get_sessionid()  # current session id\n",
    "\n",
    "puzzle = aocd.get_puzzle(session_id, year=year, day=day)            # get puzzle info\n",
    "data = aocd.get_data(session_id, year=year, day=day).splitlines()   # get input data\n"
   ]
  },
  {
   "cell_type": "code",
   "execution_count": 222,
   "metadata": {},
   "outputs": [
    {
     "name": "stdout",
     "output_type": "stream",
     "text": [
      "Input length: 1382\n",
      "Input sample:\n",
      "65|79\n",
      "71|81\n",
      "71|25\n",
      "95|29\n",
      "95|37\n",
      "95|14\n",
      "48|75\n",
      "\n",
      "Input example:\n",
      "47|53\n",
      "97|13\n",
      "97|61\n",
      "97|47\n",
      "75|29\n",
      "61|13\n",
      "75|53\n",
      "29|13\n",
      "97|29\n",
      "53|29\n",
      "61|53\n",
      "97|53\n",
      "61|29\n",
      "47|13\n",
      "75|47\n",
      "97|75\n",
      "47|61\n",
      "75|61\n",
      "47|29\n",
      "75|13\n",
      "53|13\n",
      "\n",
      "75,47,61,53,29\n",
      "97,61,53,29,13\n",
      "75,29,13\n",
      "75,97,47,61,53\n",
      "61,13,29\n",
      "97,13,75,29,47\n",
      "answer a: 143\n",
      "answer b: None\n",
      "extra: None\n"
     ]
    }
   ],
   "source": [
    "# Review the data and examples.\n",
    "print(\"Input length:\", len(data))\n",
    "print(\"Input sample:\")\n",
    "\n",
    "for i in range(7):\n",
    "    print(data[i])\n",
    "\n",
    "eg_data = puzzle.examples[0].input_data\n",
    "print(\"\\nInput example:\")\n",
    "print(eg_data)\n",
    "\n",
    "eg_answer_a = puzzle.examples[0].answer_a\n",
    "print(\"answer a:\", eg_answer_a)\n",
    "eg_answer_b = puzzle.examples[0].answer_b\n",
    "print(\"answer b:\", eg_answer_b)\n",
    "eg_extra = puzzle.examples[0].extra\n",
    "print(\"extra:\", eg_extra)\n"
   ]
  },
  {
   "cell_type": "markdown",
   "metadata": {},
   "source": [
    "# Part 1"
   ]
  },
  {
   "cell_type": "code",
   "execution_count": 223,
   "metadata": {},
   "outputs": [],
   "source": [
    "# Data formatting functions. \n",
    "# Turn rules into an array.\n",
    "def format_rules(rules):\n",
    "    for i in range(len(rules)):\n",
    "        rules[i] = list(map(int,rules[i].split(\"|\")))\n",
    "    return rules\n",
    "\n",
    "# Turn pages into an array.\n",
    "def format_pages(pages):\n",
    "    for i in range(len(pages)):\n",
    "        pages[i] = list(map(int,pages[i].split(\",\")))\n",
    "    return pages\n",
    "\n",
    "# Splits a dataset into Rules and Pages array.\n",
    "def split_input(data):\n",
    "    break_idx = data.index('')\n",
    "    rules = format_rules(data[:break_idx])\n",
    "    pages = format_pages(data[break_idx+1:])\n",
    "\n",
    "    return rules, pages\n"
   ]
  },
  {
   "cell_type": "code",
   "execution_count": 232,
   "metadata": {},
   "outputs": [],
   "source": [
    "# rules, pages = split_input(eg_data.splitlines())\n",
    "rules, pages = split_input(data)\n",
    "\n",
    "# print(len(rules), len(pages))"
   ]
  },
  {
   "cell_type": "code",
   "execution_count": 233,
   "metadata": {},
   "outputs": [
    {
     "data": {
      "text/plain": [
       "array([[65, 71, 71, ..., 34, 34, 84],\n",
       "       [79, 81, 25, ..., 62, 29, 79]])"
      ]
     },
     "execution_count": 233,
     "metadata": {},
     "output_type": "execute_result"
    }
   ],
   "source": [
    "import numpy as np\n",
    "rules = np.asarray(rules).transpose()\n",
    "rules\n"
   ]
  },
  {
   "cell_type": "code",
   "execution_count": 234,
   "metadata": {},
   "outputs": [
    {
     "name": "stdout",
     "output_type": "stream",
     "text": [
      "Total documents:  99\n"
     ]
    },
    {
     "data": {
      "text/plain": [
       "5391"
      ]
     },
     "execution_count": 234,
     "metadata": {},
     "output_type": "execute_result"
    }
   ],
   "source": [
    "total_correct = 0\n",
    "answer_a = 0\n",
    "\n",
    "for doc in pages:\n",
    "    # print('\\nDoc:',doc)\n",
    "\n",
    "    correct_order = True\n",
    "\n",
    "    for page in range(len(doc)):\n",
    "\n",
    "        # Check if the page is mentioned in the rules.\n",
    "        if doc[page] in rules[0]:\n",
    "            key_idx = np.where(rules[0] == doc[page])[0]    # Get indices where key is mentioned in rules.\n",
    "            values = rules[1][key_idx]                      # Get page values using key.\n",
    "            # print(doc[page], values)\n",
    "            \n",
    "            # Checks each value to ensure if in the doc, it has a larger index than the current page.\n",
    "            for val in values:\n",
    "\n",
    "                if (val in doc):                                        # Check if value page is in the doc.\n",
    "                    if (page < np.where(doc == val)[0][0]) == False:    # Check if value index > key index (page).\n",
    "                        correct_order = False                           # Mark False if document order is incorrect.\n",
    "\n",
    "    # Count number of correct documents.         \n",
    "    if correct_order:\n",
    "        total_correct += 1\n",
    "        answer_a += doc[len(doc)//2]\n",
    "        # print(len(doc)//2, doc[len(doc)//2], doc)\n",
    "\n",
    "print('Total documents: ',total_correct)\n",
    "answer_a\n",
    "\n",
    "# Wrong answers: 99"
   ]
  },
  {
   "cell_type": "code",
   "execution_count": 235,
   "metadata": {},
   "outputs": [
    {
     "name": "stderr",
     "output_type": "stream",
     "text": [
      "current_day is only available in December (EST)\n"
     ]
    },
    {
     "name": "stdout",
     "output_type": "stream",
     "text": [
      "\u001b[32mThat's the right answer!  You are one gold star closer to finding the Chief Historian. [Continue to Part Two]\u001b[0m\n"
     ]
    }
   ],
   "source": [
    "response = aocd.submit(answer_a, part=1, day=day, year=year, session=session_id)"
   ]
  },
  {
   "cell_type": "markdown",
   "metadata": {},
   "source": [
    "# Part 2"
   ]
  },
  {
   "cell_type": "code",
   "execution_count": null,
   "metadata": {},
   "outputs": [],
   "source": []
  },
  {
   "cell_type": "code",
   "execution_count": null,
   "metadata": {},
   "outputs": [],
   "source": [
    "# response = aocd.submit(answer_b, part=2, day=day, year=year, session=session_id, reopen=False)"
   ]
  }
 ],
 "metadata": {
  "kernelspec": {
   "display_name": "base",
   "language": "python",
   "name": "python3"
  },
  "language_info": {
   "codemirror_mode": {
    "name": "ipython",
    "version": 3
   },
   "file_extension": ".py",
   "mimetype": "text/x-python",
   "name": "python",
   "nbconvert_exporter": "python",
   "pygments_lexer": "ipython3",
   "version": "3.10.9"
  }
 },
 "nbformat": 4,
 "nbformat_minor": 2
}
