{
 "cells": [
  {
   "cell_type": "markdown",
   "metadata": {},
   "source": [
    "# 2024-02 Advent of Code\n",
    "**Helpful resources**  \n",
    "[Real Python - Advent of Code: Solving Your Puzzles With Python](https://realpython.com/python-advent-of-code/)  \n",
    "[Advent of Code Python Doc](https://github.com/wimglenn/advent-of-code-data/tree/main)"
   ]
  },
  {
   "cell_type": "code",
   "execution_count": 1,
   "metadata": {},
   "outputs": [],
   "source": [
    "import aocd, setup\n",
    "\n",
    "# Get Puzzle on this Year and Day.\n",
    "year = 2024\n",
    "day = 2\n",
    "session_id = setup.get_sessionid()  # current session id\n",
    "\n",
    "puzzle = aocd.get_puzzle(session_id, year=year, day=day)            # get puzzle info\n",
    "data = aocd.get_data(session_id, year=year, day=day).splitlines()   # get input data\n"
   ]
  },
  {
   "cell_type": "code",
   "execution_count": 2,
   "metadata": {},
   "outputs": [
    {
     "name": "stdout",
     "output_type": "stream",
     "text": [
      "Input length: 1000\n",
      "Input sample:\n",
      "38 41 44 47 50 47\n",
      "75 78 79 82 85 85\n",
      "11 13 16 19 21 25\n",
      "39 40 43 44 50\n",
      "75 77 80 78 80 83 84 87\n",
      "17 20 23 21 22 23 24 22\n",
      "80 82 79 80 82 82\n",
      "\n",
      "Input example:\n",
      "['7 6 4 2 1', '1 2 7 8 9', '9 7 6 2 1', '1 3 2 4 5', '8 6 4 4 1', '1 3 6 7 9']\n",
      "answer a: 2\n",
      "answer b: 4\n",
      "extra: None\n"
     ]
    }
   ],
   "source": [
    "# Review the data and examples.\n",
    "print(\"Input length:\", len(data))\n",
    "print(\"Input sample:\")\n",
    "\n",
    "for i in range(7):\n",
    "    print(data[i])\n",
    "\n",
    "eg_data = puzzle.examples[0].input_data.splitlines()\n",
    "print(\"\\nInput example:\")\n",
    "print(eg_data)\n",
    "\n",
    "eg_answer_a = puzzle.examples[0].answer_a\n",
    "print(\"answer a:\", eg_answer_a)\n",
    "eg_answer_b = puzzle.examples[0].answer_b\n",
    "print(\"answer b:\", eg_answer_b)\n",
    "eg_extra = puzzle.examples[0].extra\n",
    "print(\"extra:\", eg_extra)\n"
   ]
  },
  {
   "cell_type": "markdown",
   "metadata": {},
   "source": [
    "# Part 1"
   ]
  },
  {
   "cell_type": "code",
   "execution_count": null,
   "metadata": {},
   "outputs": [],
   "source": [
    "input = []\n",
    "\n",
    "for i in data:\n",
    "    # temp = list(map(int, i.split(\" \")))\n",
    "    input.append(list(map(int,i.split(\" \"))))\n",
    "    \n",
    "input[:5]"
   ]
  },
  {
   "cell_type": "code",
   "execution_count": null,
   "metadata": {},
   "outputs": [],
   "source": [
    "total_reports = 0               # total reports that are safe. Where gradual and direction persistence is true.\n",
    "\n",
    "for i in input:\n",
    "\n",
    "\n",
    "    gradual = True                  # Change is gradual (<=2).\n",
    "    direction_persistent = True     # Direction (ascending/descending) is persistent.\n",
    "    direction = 0                   # Direction of ascending(+1) or descending(-1).\n",
    "\n",
    "    # For each line, check for gradual change and direction persistence.\n",
    "    for n in range(len(i)-1):\n",
    "        difference = i[n] - i[n+1]\n",
    "\n",
    "        # Check for gradual change (>=1 and <=3).\n",
    "        if (abs(difference) > 3) | (abs(difference) < 1):\n",
    "            gradual = False\n",
    "\n",
    "        # Set initial direction whether ascending(+1) or descending(-1).\n",
    "        if (n == 0):\n",
    "            if (difference < 0):    # Ascending\n",
    "                direction = 1\n",
    "            else:\n",
    "                direction = -1      # Descending\n",
    "\n",
    "        # Confirm direction of difference.\n",
    "        if ((difference < 0) & (direction == -1)) | ((difference > 0) & (direction == 1)):\n",
    "            direction_persistent = False\n",
    "\n",
    "    if (gradual) & (direction_persistent):\n",
    "        total_reports += 1\n",
    "\n",
    "    # print(gradual, direction_persistent, direction, i)\n",
    "        \n",
    "        \n",
    "\n",
    "print(total_reports)\n",
    "\n",
    "# Wrong answers: 58, 389\n"
   ]
  },
  {
   "cell_type": "code",
   "execution_count": null,
   "metadata": {},
   "outputs": [],
   "source": [
    "response = aocd.submit(total_reports, part=1, day=day, year=year, session=session_id)"
   ]
  },
  {
   "cell_type": "markdown",
   "metadata": {},
   "source": [
    "# Part 2"
   ]
  },
  {
   "cell_type": "code",
   "execution_count": 31,
   "metadata": {},
   "outputs": [],
   "source": [
    "import copy"
   ]
  },
  {
   "cell_type": "code",
   "execution_count": 36,
   "metadata": {},
   "outputs": [
    {
     "data": {
      "text/plain": [
       "[[38, 41, 44, 47, 50, 47],\n",
       " [75, 78, 79, 82, 85, 85],\n",
       " [11, 13, 16, 19, 21, 25],\n",
       " [39, 40, 43, 44, 50],\n",
       " [75, 77, 80, 78, 80, 83, 84, 87],\n",
       " [17, 20, 23, 21, 22, 23, 24, 22]]"
      ]
     },
     "execution_count": 36,
     "metadata": {},
     "output_type": "execute_result"
    }
   ],
   "source": [
    "input = []\n",
    "\n",
    "for i in data:\n",
    "    # temp = list(map(int, i.split(\" \")))\n",
    "    input.append(list(map(int,i.split(\" \"))))\n",
    "    \n",
    "input[:len(eg_data)]"
   ]
  },
  {
   "cell_type": "code",
   "execution_count": 40,
   "metadata": {},
   "outputs": [],
   "source": [
    "\n",
    "# Checks if array is SAFE.\n",
    "def check_level_safety(array):\n",
    "    gradual = True                  # Change is gradual (<=2).\n",
    "    direction_persistent = True     # Direction (ascending/descending) is persistent.\n",
    "    direction = 0                   # Direction of ascending(+1) or descending(-1).\n",
    "    \n",
    "    # For each line, check for gradual change and direction persistence.\n",
    "    for n in range(len(array)-1):\n",
    "        difference = array[n] - array[n+1]\n",
    "\n",
    "        # Check for gradual change (>=1 and <=3).\n",
    "        if (abs(difference) > 3) | (abs(difference) < 1):\n",
    "            gradual = False\n",
    "\n",
    "        # Set initial direction whether ascending(+1) or descending(-1).\n",
    "        if (n == 0):\n",
    "            if (difference < 0):    # Ascending\n",
    "                direction = 1\n",
    "            else:\n",
    "                direction = -1      # Descending\n",
    "\n",
    "        # Confirm direction of difference.\n",
    "        if ((difference < 0) & (direction == -1)) | ((difference > 0) & (direction == 1)):\n",
    "            direction_persistent = False\n",
    "\n",
    "    # print(gradual, direction_persistent, direction, array)\n",
    "\n",
    "    if (gradual) & (direction_persistent):\n",
    "        return True\n",
    "    else:\n",
    "        return False\n",
    "\n"
   ]
  },
  {
   "cell_type": "code",
   "execution_count": 41,
   "metadata": {},
   "outputs": [
    {
     "name": "stdout",
     "output_type": "stream",
     "text": [
      "426\n"
     ]
    }
   ],
   "source": [
    "total_reports = 0               # total reports that are safe. Where gradual and direction persistence is true.\n",
    "\n",
    "for i in input:\n",
    "\n",
    "    # check if array is safe as is.\n",
    "    if (check_level_safety(i)):\n",
    "        total_reports += 1\n",
    "        \n",
    "    # check if array could be made safe by removing one element.\n",
    "    else:\n",
    "        for n in range(len(i)):\n",
    "            temp_i = i.copy()       # Systematically remove an element then check for safety.\n",
    "            temp_i.pop(n)\n",
    "\n",
    "            if (check_level_safety(temp_i)):\n",
    "                total_reports += 1\n",
    "                break               # If safe, break this loop.\n",
    "        \n",
    "\n",
    "print(total_reports)\n",
    "\n",
    "# Wrong answers: \n"
   ]
  },
  {
   "cell_type": "code",
   "execution_count": 42,
   "metadata": {},
   "outputs": [
    {
     "name": "stderr",
     "output_type": "stream",
     "text": [
      "current_day is only available in December (EST)\n"
     ]
    },
    {
     "name": "stdout",
     "output_type": "stream",
     "text": [
      "\u001b[32mThat's the right answer!  You are one gold star closer to finding the Chief Historian.You have completed Day 2! You can [Shareon\n",
      "  Bluesky\n",
      "Twitter\n",
      "Mastodon] this victory or [Return to Your Advent Calendar].\u001b[0m\n"
     ]
    }
   ],
   "source": [
    "response = aocd.submit(total_reports, part=2, day=day, year=year, session=session_id)"
   ]
  }
 ],
 "metadata": {
  "kernelspec": {
   "display_name": "base",
   "language": "python",
   "name": "python3"
  },
  "language_info": {
   "codemirror_mode": {
    "name": "ipython",
    "version": 3
   },
   "file_extension": ".py",
   "mimetype": "text/x-python",
   "name": "python",
   "nbconvert_exporter": "python",
   "pygments_lexer": "ipython3",
   "version": "3.10.9"
  }
 },
 "nbformat": 4,
 "nbformat_minor": 2
}
