{
 "cells": [
  {
   "cell_type": "markdown",
   "metadata": {},
   "source": [
    "# 2024-02 Advent of Code\n",
    "**Helpful resources**  \n",
    "[Real Python - Advent of Code: Solving Your Puzzles With Python](https://realpython.com/python-advent-of-code/)  \n",
    "[Advent of Code Python Doc](https://github.com/wimglenn/advent-of-code-data/tree/main)"
   ]
  },
  {
   "cell_type": "code",
   "execution_count": 5,
   "metadata": {},
   "outputs": [],
   "source": [
    "import aocd, setup\n",
    "\n",
    "# Get Puzzle on this Year and Day.\n",
    "year = 2024\n",
    "day = 2\n",
    "session_id = setup.get_sessionid()  # current session id\n",
    "\n",
    "puzzle = aocd.get_puzzle(session_id, year=year, day=day)            # get puzzle info\n",
    "data = aocd.get_data(session_id, year=year, day=day).splitlines()   # get input data\n"
   ]
  },
  {
   "cell_type": "code",
   "execution_count": 14,
   "metadata": {},
   "outputs": [
    {
     "name": "stdout",
     "output_type": "stream",
     "text": [
      "Input length: 1000\n",
      "Input sample:\n",
      "38 41 44 47 50 47\n",
      "75 78 79 82 85 85\n",
      "11 13 16 19 21 25\n",
      "39 40 43 44 50\n",
      "75 77 80 78 80 83 84 87\n",
      "17 20 23 21 22 23 24 22\n",
      "80 82 79 80 82 82\n",
      "\n",
      "Input example:\n",
      "['7 6 4 2 1', '1 2 7 8 9', '9 7 6 2 1', '1 3 2 4 5', '8 6 4 4 1', '1 3 6 7 9']\n",
      "answer a: 2\n",
      "answer b: None\n",
      "extra: None\n"
     ]
    }
   ],
   "source": [
    "# Review the data and examples.\n",
    "print(\"Input length:\", len(data))\n",
    "print(\"Input sample:\")\n",
    "\n",
    "for i in range(7):\n",
    "    print(data[i])\n",
    "\n",
    "eg_data = puzzle.examples[0].input_data.splitlines()\n",
    "print(\"\\nInput example:\")\n",
    "print(eg_data)\n",
    "\n",
    "eg_answer_a = puzzle.examples[0].answer_a\n",
    "print(\"answer a:\", eg_answer_a)\n",
    "eg_answer_b = puzzle.examples[0].answer_b\n",
    "print(\"answer b:\", eg_answer_b)\n",
    "eg_extra = puzzle.examples[0].extra\n",
    "print(\"extra:\", eg_extra)\n"
   ]
  },
  {
   "cell_type": "markdown",
   "metadata": {},
   "source": [
    "# Part 1"
   ]
  },
  {
   "cell_type": "code",
   "execution_count": 19,
   "metadata": {},
   "outputs": [
    {
     "data": {
      "text/plain": [
       "[[7, 6, 4, 2, 1],\n",
       " [1, 2, 7, 8, 9],\n",
       " [9, 7, 6, 2, 1],\n",
       " [1, 3, 2, 4, 5],\n",
       " [8, 6, 4, 4, 1],\n",
       " [1, 3, 6, 7, 9]]"
      ]
     },
     "execution_count": 19,
     "metadata": {},
     "output_type": "execute_result"
    }
   ],
   "source": [
    "input = []\n",
    "\n",
    "for i in eg_data:\n",
    "    # temp = list(map(int, i.split(\" \")))\n",
    "    input.append(list(map(int,i.split(\" \"))))\n",
    "    \n",
    "input"
   ]
  },
  {
   "cell_type": "code",
   "execution_count": 30,
   "metadata": {},
   "outputs": [
    {
     "name": "stdout",
     "output_type": "stream",
     "text": [
      "7 6 1\n",
      "6 4 2\n",
      "4 2 2\n",
      "2 1 1\n",
      "1 2 1\n",
      "2 7 boo\n",
      "7 8 1\n",
      "8 9 1\n",
      "9 7 2\n",
      "7 6 1\n",
      "6 2 boo\n",
      "2 1 1\n",
      "1 3 2\n",
      "3 2 1\n",
      "2 4 2\n",
      "4 5 1\n",
      "8 6 2\n",
      "6 4 2\n",
      "4 4 0\n",
      "4 1 boo\n",
      "1 3 2\n",
      "3 6 boo\n",
      "6 7 1\n",
      "7 9 2\n"
     ]
    }
   ],
   "source": [
    "for i in input:\n",
    "    # print(i)\n",
    "\n",
    "    for n in range(len(i)-1):\n",
    "        if abs(i[n] - i[n+1]) <= 2:\n",
    "            print(i[n], i[n+1], abs(i[n] - i[n+1]))\n",
    "        else:\n",
    "            print(i[n], i[n+1], \"boo\")"
   ]
  },
  {
   "cell_type": "code",
   "execution_count": null,
   "metadata": {},
   "outputs": [],
   "source": []
  }
 ],
 "metadata": {
  "kernelspec": {
   "display_name": "base",
   "language": "python",
   "name": "python3"
  },
  "language_info": {
   "codemirror_mode": {
    "name": "ipython",
    "version": 3
   },
   "file_extension": ".py",
   "mimetype": "text/x-python",
   "name": "python",
   "nbconvert_exporter": "python",
   "pygments_lexer": "ipython3",
   "version": "3.10.9"
  }
 },
 "nbformat": 4,
 "nbformat_minor": 2
}
